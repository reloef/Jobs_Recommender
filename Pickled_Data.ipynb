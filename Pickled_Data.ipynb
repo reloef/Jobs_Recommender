{
  "nbformat": 4,
  "nbformat_minor": 0,
  "metadata": {
    "colab": {
      "name": "Pickled Data",
      "provenance": [],
      "include_colab_link": true
    },
    "kernelspec": {
      "name": "python3",
      "display_name": "Python 3"
    },
    "language_info": {
      "name": "python"
    }
  },
  "cells": [
    {
      "cell_type": "markdown",
      "metadata": {
        "id": "view-in-github",
        "colab_type": "text"
      },
      "source": [
        "<a href=\"https://colab.research.google.com/github/reloef/Jobs_Recommender/blob/master/Pickled_Data.ipynb\" target=\"_parent\"><img src=\"https://colab.research.google.com/assets/colab-badge.svg\" alt=\"Open In Colab\"/></a>"
      ]
    },
    {
      "cell_type": "code",
      "execution_count": null,
      "metadata": {
        "id": "IGDqTjyU8ZWy"
      },
      "outputs": [],
      "source": [
        "# import libraries\n",
        "import requests\n",
        "import pandas as pd\n",
        "import time"
      ]
    },
    {
      "cell_type": "code",
      "source": [
        "pip install careerjet-api"
      ],
      "metadata": {
        "colab": {
          "base_uri": "https://localhost:8080/"
        },
        "id": "GT1aZCx09TRM",
        "outputId": "fd812c84-f59e-40b4-f58f-0a70a96c1b20"
      },
      "execution_count": null,
      "outputs": [
        {
          "output_type": "stream",
          "name": "stdout",
          "text": [
            "Requirement already satisfied: careerjet-api in /usr/local/lib/python3.7/dist-packages (3.2)\n",
            "Requirement already satisfied: requests in /usr/local/lib/python3.7/dist-packages (from careerjet-api) (2.23.0)\n",
            "Requirement already satisfied: certifi>=2017.4.17 in /usr/local/lib/python3.7/dist-packages (from requests->careerjet-api) (2021.10.8)\n",
            "Requirement already satisfied: chardet<4,>=3.0.2 in /usr/local/lib/python3.7/dist-packages (from requests->careerjet-api) (3.0.4)\n",
            "Requirement already satisfied: urllib3!=1.25.0,!=1.25.1,<1.26,>=1.21.1 in /usr/local/lib/python3.7/dist-packages (from requests->careerjet-api) (1.24.3)\n",
            "Requirement already satisfied: idna<3,>=2.5 in /usr/local/lib/python3.7/dist-packages (from requests->careerjet-api) (2.10)\n"
          ]
        }
      ]
    },
    {
      "cell_type": "code",
      "source": [
        "from careerjet_api import CareerjetAPIClient\n",
        "\n",
        "cj_5  =  CareerjetAPIClient(\"en_US\");\n",
        "\n",
        "result_json_5 = cj_5.search({\n",
        "                        'location'    : 'United States of America',\n",
        "                        'keywords'    : 'python',\n",
        "                        'affid'       : '3943ce450790cc9c0eea91620540ef82',\n",
        "                        'user_ip'     : '41.13.92.164',\n",
        "                        'url'         : 'https://www.careerjet.com/search/jobs?s=data+science&l=united+states+of+America',\n",
        "                        'user_agent'  : 'Mozilla/5.0 (X11; Linux x86_64; rv:31.0) Gecko/20100101 Firefox/31.0'\n",
        "                      });"
      ],
      "metadata": {
        "id": "f-_Efz4T8oPd"
      },
      "execution_count": null,
      "outputs": []
    },
    {
      "cell_type": "code",
      "source": [
        "result_json_5"
      ],
      "metadata": {
        "colab": {
          "base_uri": "https://localhost:8080/"
        },
        "id": "tyctzPsw8xCL",
        "outputId": "8d9bdfd3-0020-40db-9e5e-06175e946782"
      },
      "execution_count": null,
      "outputs": [
        {
          "output_type": "execute_result",
          "data": {
            "text/plain": [
              "{'hits': 67433,\n",
              " 'jobs': [{'company': 'Corvus Consulting LLC',\n",
              "   'date': 'Fri, 08 Apr 2022 07:07:10 GMT',\n",
              "   'description': ' Information Data Science Support. Work schedule is Monday-Friday, from 8 am – 5 pm.   RESPONSIBILITIES   Build <b>Python</b> scripts... and packages that will be used by the data analysts. The <b>Python</b> scripts will use supervised and unsupervised ML (both text...',\n",
              "   'locations': 'Fort Gordon, GA',\n",
              "   'salary': '',\n",
              "   'site': '',\n",
              "   'title': 'Senior Python Data Scientist',\n",
              "   'url': 'http://jobviewtrack.com/en-us/job-184a417e480a0601555464021c004e34064911061d1a595f3f7d54100701495464021c004e34064911061d1a595f3f694c100e4e74174906061507141122270d071a45591d7e4e0d0a00531d53176a3117130d4f1a482d125e4a3c1419505c/1a69b77afb3823956eefdacc1c0a6e2d.html?affid=3943ce450790cc9c0eea91620540ef82'},\n",
              "  {'company': 'Binary Defense',\n",
              "   'date': 'Tue, 05 Apr 2022 07:02:28 GMT',\n",
              "   'description': ' (Kanban, Scrum, XP, LeSS, SAFe, etc.)   · Experience using <b>Python</b> for Software Development   · Experience doing Windows...   · Interest in learning other languages in addition to <b>Python</b>   · Strong communication and collaboration skills...',\n",
              "   'locations': 'Stow, OH',\n",
              "   'salary': '',\n",
              "   'site': '',\n",
              "   'title': 'Sr. Software Engineer, Python Systems Development (remote)',\n",
              "   'url': 'http://jobviewtrack.com/en-us/job-1348417e5f443c01410057021a044e220b471d060c1658296e424b10180f551100270d170b0b0a50190d07070a6e534a440a0a0b55767311483217141145191b4936444c544348011d6c75114d0c1c044e340a46001f08014f0b78434a0d010b4206223007071a10045211482c1d4d42534848164f3e5e00480c06605f5f561546/a754f06e5ec3b9ed7ff63e2829fa334d.html?affid=3943ce450790cc9c0eea91620540ef82'},\n",
              "  {'company': 'OmegaHires',\n",
              "   'date': 'Sun, 10 Apr 2022 07:51:27 GMT',\n",
              "   'description': 'Senior <b>Python</b> Developer   RTP, North Carolina (Full Remote)   Long Term Contract   Key skills – <b>Python</b>, Docker..., Kubernetes   Job description:    Fluent experience in <b>Python</b> with proven efficient, reusable, and reliable code     participate...',\n",
              "   'locations': 'North Carolina',\n",
              "   'salary': '',\n",
              "   'site': '',\n",
              "   'title': 'Senior Python Developer',\n",
              "   'url': 'http://jobviewtrack.com/en-us/job-4f48417e480a06015554701a1c0901094564111e0c1f455b585f2f34161a4f1b4e432c041802094f040d1b71794e534442164f2a4202450f07110b1567731106001c580b6d54590c000025245917000e00665417465a51/7d0cfa1121fa26bfccb6f4d0f4c45c76.html?affid=3943ce450790cc9c0eea91620540ef82'},\n",
              "  {'company': 'OmegaHires',\n",
              "   'date': 'Sun, 10 Apr 2022 07:42:32 GMT',\n",
              "   'description': 'Key skills – <b>Python</b>, Docker, Kubernetes   Job description:    Fluent experience in <b>Python</b> with proven efficient...',\n",
              "   'locations': 'North Carolina',\n",
              "   'salary': '',\n",
              "   'site': '',\n",
              "   'title': 'Senior Python Developer',\n",
              "   'url': 'http://jobviewtrack.com/en-us/job-4f48417e480a06015554701a1c0901094564111e0c1f455b585f2f34161a4f1b4e432c041802094f040d1b71794e534442164f2a4202450f07110b1567731106001c580b6d54590c000025245917000e00665417465a51/801fe7435cf10c7a5725cfa481a36bec.html?affid=3943ce450790cc9c0eea91620540ef82'},\n",
              "  {'company': 'Medical Science & Computing',\n",
              "   'date': 'Sun, 10 Apr 2022 07:33:01 GMT',\n",
              "   'description': 'Overview   The Human Genotype and Phenotype (dbGaP) is searching for a Senior <b>Python</b> Developer to support the National... researchers using our applications world-wide. The Senior <b>Python</b> Developer will work as a member of the dbGaP Software Development...',\n",
              "   'locations': 'Bethesda, MD',\n",
              "   'salary': '',\n",
              "   'site': '',\n",
              "   'title': 'Senior Python Developer',\n",
              "   'url': 'http://jobviewtrack.com/en-us/job-481b417e480a06015554701a1c0901094564111e0c1f455b585f2f34161a4f1b4e432c041802094f040d1b71794e534442164f2a4202450f07110b1567731106001c580b6d54590c000025245917000e00665412475d50/3547e6d7ca283b5d968e4cef53e95374.html?affid=3943ce450790cc9c0eea91620540ef82'},\n",
              "  {'company': 'Gallup',\n",
              "   'date': 'Sun, 10 Apr 2022 07:11:05 GMT',\n",
              "   'description': 'Gallup, Inc. seeks Lead <b>Python</b> Developers in Omaha, NE. To lead team in designing, developing, unit testing... and maintaining web-based applications with a focus on <b>Python</b>. Min. req. Master’s degree in Computer Science, MIS, Engineering...',\n",
              "   'locations': 'Omaha, NE',\n",
              "   'salary': '',\n",
              "   'site': '',\n",
              "   'title': 'Lead Python Developers',\n",
              "   'url': 'http://jobviewtrack.com/en-us/job-1a49417d5410070149766c0609056c230056110406034f594e2c19525c5e/dde5a6b34243a5765ea1395c45eb3de8.html?affid=3943ce450790cc9c0eea91620540ef82'},\n",
              "  {'company': 'eTeam Inc',\n",
              "   'date': 'Sun, 10 Apr 2022 06:54:26 GMT',\n",
              "   'description': 'Primary Skills: <b>Python</b>, UNIX, Shell Scripting, Perl, Control-M  8+ years of experience in application development using... <b>Python</b>, UNIX, Shell Scripting, Perl, Control-M  Experience in writing UNIX scripts .  Extensive knowledge in Control-M...',\n",
              "   'locations': 'New York',\n",
              "   'salary': '',\n",
              "   'site': '',\n",
              "   'title': 'Senior Python Developer',\n",
              "   'url': 'http://jobviewtrack.com/en-us/job-124e417e480a06015554701a1c0901094564111e0c1f455b585f2f34161a4f1b4e432c041802094f040d1b71794e534442164f2a4202450f07110b1567731106001c580b6d54590c000025245917000e0066511040/de4a23281ca0ab219c064b99e1732c89.html?affid=3943ce450790cc9c0eea91620540ef82'},\n",
              "  {'company': 'Medical Science & Computing',\n",
              "   'date': 'Sun, 10 Apr 2022 06:46:29 GMT',\n",
              "   'description': 'Overview   We are searching for a Senior Software Developer with <b>Python</b> and C++ to support the National Center... literally help to accelerate cures for diseases! NCBI’s wide range of applications, platforms (Node, <b>Python</b>, Django, C...',\n",
              "   'locations': 'Bethesda, MD',\n",
              "   'salary': '',\n",
              "   'site': '',\n",
              "   'title': 'Senior Developer, C++/Python, full time position',\n",
              "   'url': 'http://jobviewtrack.com/en-us/job-1e4e416b5808034e731d4d0648250b11004c1b180c0128785843440b1d4e645464061e0402081545066a2a537a524945420a4f2a4202450f07110b156763542e1c1f460b694440016d3d421a490c1a413e1e11481b0649374f5d584142140a1c264512505d58/d7cbd06a078fc2a0b8b538de4951bcce.html?affid=3943ce450790cc9c0eea91620540ef82'},\n",
              "  {'company': 'Motion Recruitment',\n",
              "   'date': 'Sun, 10 Apr 2022 06:31:50 GMT',\n",
              "   'description': 'Title: Remote Backend <b>Python</b> Engineer   Job Description   This opening is for a full-time Backend Engineer... with strong <b>Python</b> and Django experience. With their team members being located in New York City, Chicago, San Francisco, and Florida...',\n",
              "   'locations': 'New York City, NY',\n",
              "   'salary': '$140000 per year',\n",
              "   'salary_currency_code': 'USD',\n",
              "   'salary_max': '140000',\n",
              "   'salary_min': '140000',\n",
              "   'salary_type': 'Y',\n",
              "   'site': '',\n",
              "   'title': 'Remote Backend Python Engineer',\n",
              "   'url': 'http://jobviewtrack.com/en-us/job-184e417f4809001a4254701a1c0901096772110506074f0b78434a0d010b42062233111506080b0031060e1a444e585f2f260e0d4c114e07482400000c4e110d1b717a524945420a4f2c46174b0606056f5653174c5b/428eb0633e8b4df4a98482c0b2ee7c92.html?affid=3943ce450790cc9c0eea91620540ef82'},\n",
              "  {'company': 'ClearPath',\n",
              "   'date': 'Sun, 10 Apr 2022 06:03:28 GMT',\n",
              "   'description': \". If you don't have Golang, but have very strong JavaScript, <b>Python</b> and PHP, this could be a great opportunity to transition... candidate has at least 2 years of software development experience with Golang (or JavaScript, PHP and <b>Python</b>), React and MySQL...\",\n",
              "   'locations': 'Atlanta, GA',\n",
              "   'salary': '',\n",
              "   'site': '',\n",
              "   'title': 'Golang Developer - JavaScript or Python',\n",
              "   'url': 'http://jobviewtrack.com/en-us/job-4f4f417d54100701495464061e0402081545066a23125c4a6e4e5f0d1f1a073045150d0d01170052762f061f4b455a0d6901190b4b1b50061a633e1e11481b066b374f5d584142140a1c264d13515e/065ee5f8882bb99d6e0e64905b6e5bd4.html?affid=3943ce450790cc9c0eea91620540ef82'},\n",
              "  {'company': 'Apex Systems',\n",
              "   'date': 'Sun, 10 Apr 2022 06:01:59 GMT',\n",
              "   'description': 'In-depth knowledge as <b>Python</b> Developer Handon <b>Python</b> Libraries: pandas SQL query, MS SQL SQL (Oracle), SQLite Basic IIS...   On a daily basis work on the following:-   In-depth knowledge as <b>Python</b> Developer   Handon <b>Python</b> Libraries: pandas   SQL query...',\n",
              "   'locations': 'Atlanta, GA',\n",
              "   'salary': '',\n",
              "   'site': '',\n",
              "   'title': 'Python Developer/Application Support Engineer',\n",
              "   'url': 'http://jobviewtrack.com/en-us/job-484e416c5d1403074415540a070f4e34105004071b070a6e534a440a0a0b55766113180d070404541d0707536e4e4b48410b1f0b5576701a1c0901094564111e0c1f455b585f2f251f1e4b1d43021c08010945730118191c585f3f6c5d1403074415540a070f4e220b471d060c16582a041e1f52/ca5fcf69e1e59d6ff0a33d9a583344d1.html?affid=3943ce450790cc9c0eea91620540ef82'},\n",
              "  {'company': 'Saicon Consultants',\n",
              "   'date': 'Sun, 10 Apr 2022 04:59:21 GMT',\n",
              "   'description': ' confident that their environments are well protected from cyber security threats.   What you will do as a <b>Python</b> Developer... the solution. Most scripts will leverage our APIs and be written in <b>python</b>, PowerShell and or bash.   \\x95 Help us improve...',\n",
              "   'locations': 'Irving, TX',\n",
              "   'salary': '',\n",
              "   'site': '',\n",
              "   'title': 'Python Developer with AWS DevOps',\n",
              "   'url': 'http://jobviewtrack.com/en-us/job-1c1f416c7a374f3e5e00480c06412a0213451807191658296d54590c0000073045150d0d0117005276293e200a6f585b4808001e420622270d1721171600353f3a717a524945420a4f2f7027215159505a54/f24275f2483355caa72d804acffc7e55.html?affid=3943ce450790cc9c0eea91620540ef82'},\n",
              "  {'company': 'Motion Recruitment',\n",
              "   'date': 'Sun, 10 Apr 2022 04:53:25 GMT',\n",
              "   'description': ' (open to AWS)  Write code in Java (Apache Beam) and <b>Python</b>   Desired Skills & Experience  Experience working in...',\n",
              "   'locations': 'San Francisco, CA',\n",
              "   'salary': '$180000 per year',\n",
              "   'salary_currency_code': 'USD',\n",
              "   'salary_max': '180000',\n",
              "   'salary_min': '180000',\n",
              "   'salary_type': 'Y',\n",
              "   'site': '',\n",
              "   'title': 'Data Engineer / Python',\n",
              "   'url': 'http://jobviewtrack.com/en-us/job-191f41694c100e4e621a470a06040b1567700d1c011c440b78434a0d010b42062233111506080b0030091d12286e534a440a0a0b5576701a1c090109641742505c/3f32fbc1eb0b447d380b0875a8173143.html?affid=3943ce450790cc9c0eea91620540ef82'},\n",
              "  {'company': 'Neato Robotics',\n",
              "   'date': 'Sun, 10 Apr 2022 04:36:50 GMT',\n",
              "   'description': ' or computer science skills  1 year experience writing software in C/C++ or <b>Python</b> in a Linux Environment.  Knowledge of Git...',\n",
              "   'locations': 'San Jose, CA',\n",
              "   'salary': '',\n",
              "   'site': '',\n",
              "   'title': 'Software Engineering Intern-Python/C++',\n",
              "   'url': 'http://jobviewtrack.com/en-us/job-4e12417e42021b19460645432d0f090e0b45111a001d4d0b744359011d002537003007071a10045211482c1d4d425348481606004076650d0f08000200521d060e53634549485f0a6d3d4812541409130b472c4e000d1b1d2878524b59130e1c4254650d0f08000200521d060e721d1d041c/128fe8eacf19598c48837bfcfa793189.html?affid=3943ce450790cc9c0eea91620540ef82'},\n",
              "  {'company': 'CyberCoders',\n",
              "   'date': 'Sun, 10 Apr 2022 04:22:52 GMT',\n",
              "   'description': ', data mining, and data cleansing   What You Need for this Position   - Data Analysis  - R code  - <b>Python</b>  - SQL  - R...',\n",
              "   'locations': 'Los Angeles, CA',\n",
              "   'salary': '$150000 - 170000 per year',\n",
              "   'salary_currency_code': 'USD',\n",
              "   'salary_max': '170000',\n",
              "   'salary_min': '150000',\n",
              "   'salary_type': 'Y',\n",
              "   'site': '',\n",
              "   'title': 'Data Analyst - SQL, Python, R',\n",
              "   'url': 'http://jobviewtrack.com/en-us/job-131b41694c100e4e661a410f11121a473671386a2d125e4a1d6c4305031754000033111506080b2230091d120a6a534c411d1c1a2527712f48250f130422273925536b455c4154171b6f10471451/28ce4d62f845c7acf4c461c9c05aa406.html?affid=3943ce450790cc9c0eea91620540ef82'},\n",
              "  {'company': 'CyberCoders',\n",
              "   'date': 'Sun, 10 Apr 2022 04:15:25 GMT',\n",
              "   'description': ' (i.e. Ruby, <b>Python</b>, Java, C#, Go) or other language to script installation, configuration and provisioning... experience (AWS Lambda, Azure Functions, etc)  Scripting (shell, <b>Python</b>, Ruby, Go) skills for monitoring and automation...',\n",
              "   'locations': 'Los Angeles, CA',\n",
              "   'salary': '$110000 - 130000 per year',\n",
              "   'salary_currency_code': 'USD',\n",
              "   'salary_max': '130000',\n",
              "   'salary_min': '110000',\n",
              "   'salary_type': 'Y',\n",
              "   'site': '',\n",
              "   'title': 'Senior DevOps Engineer - Ruby, Python, Java, C#, Go',\n",
              "   'url': 'http://jobviewtrack.com/en-us/job-4e4d417e480a0601555464061e2e1e1445651a0f001d4f4e4f2f7e01010748060026060607090045064823125c4a3f674c120e4e6454701a1c0901096764111e2603590b78434a0d010b420622300d0f0708170031060e1a444e585f2c535c5a15/a19ebdd2fc2377e5464ce9de5178d2b7.html?affid=3943ce450790cc9c0eea91620540ef82'},\n",
              "  {'company': 'Bank of America',\n",
              "   'date': 'Sun, 10 Apr 2022 03:35:57 GMT',\n",
              "   'description': ' solutions to provide regulatory reporting globally.   We are looking for looking for a talented and highly motivated <b>Python</b>...+ years of relevant application and/or framework development experience using <b>Python</b> as the primary programming language...',\n",
              "   'locations': 'USA',\n",
              "   'salary': '',\n",
              "   'site': '',\n",
              "   'title': 'Python Developer, Global Risk Analytics',\n",
              "   'url': 'http://jobviewtrack.com/en-us/job-484a417d54100701495464061e0402081545066a3b1a59401d6c43050317531d43106a200006095900010a000a6f585b4808001e42062233111506080b22300d1f1646444d485f655a5b/91cb1d052ccd17703a08916d59d67635.html?affid=3943ce450790cc9c0eea91620540ef82'},\n",
              "  {'company': 'Infosys',\n",
              "   'date': 'Sun, 10 Apr 2022 03:16:36 GMT',\n",
              "   'description': \"Job Description   Infosys is seeking a <b>Python</b> Full-Stack Developer with Java experience. This position's primary....  Experience in <b>Python</b> Server-Side programming  Experience in Core Java    Preferred Qualifications   At least 4 years...\",\n",
              "   'locations': 'USA',\n",
              "   'salary': '',\n",
              "   'site': '',\n",
              "   'title': 'Python Java Full-Stack Developer',\n",
              "   'url': 'http://jobviewtrack.com/en-us/job-194d41674c120e4e61014c0f48321a06064b542c0c054f47525d48166d24460241432e14020b457300090a18286d484141443c1a46174b432c041802094f040d1b71604a4b4c0d200a1842184f130d136c371c541c0707536e4e4b48410b1f0b55751556/f52bff5f51529a1506e8758fdcc4e422.html?affid=3943ce450790cc9c0eea91620540ef82'},\n",
              "  {'company': 'CGI',\n",
              "   'date': 'Sun, 10 Apr 2022 02:47:45 GMT',\n",
              "   'description': 'CGI has an immediate need for a <b>Python</b> Developer (AWS) to join our financial services team in one of our selected CGI... are leveraging our end-to-end services across the globe.    For a large financial services client, we are seeking an a <b>Python</b>...',\n",
              "   'locations': 'Lafayette, LA',\n",
              "   'salary': '',\n",
              "   'site': '',\n",
              "   'title': 'J0422-0995 - Python Developer (AWS)',\n",
              "   'url': 'http://jobviewtrack.com/en-us/job-4c1f416c7a374f3e5e00480c06412a0213451807191658296d54590c0000073045150d0d0117005276293e200a6f585b4808001e42062233111506080b00353f3a716b7c6e0d6c333c6f1645185451/353027be3bd458fe485a8bbe4bb78e75.html?affid=3943ce450790cc9c0eea91620540ef82'},\n",
              "  {'company': \"Rady Children's Hospital San Diego\",\n",
              "   'date': 'Sun, 10 Apr 2022 02:29:31 GMT',\n",
              "   'description': 'JOB SUMMARY:   The Software Developer (<b>Python</b>) will use best software engineering practices to design, develop... years of <b>Python</b> software development experience  3 years of experience with (relational) databases like MySQL or PostgreSQL...',\n",
              "   'locations': 'San Diego, CA',\n",
              "   'salary': '',\n",
              "   'site': '',\n",
              "   'title': 'Software Developer (Python) - Genomics',\n",
              "   'url': 'http://jobviewtrack.com/en-us/job-1b4a417e42021b19460645432c041802094f040d1b717a524945420a4f2a4202450f07110b1567700d1c011c440b6e424b10180f5511223007071a100452116a390a5e4352432c53595615/1167e688a2b435532d44547e07d928b8.html?affid=3943ce450790cc9c0eea91620540ef82'}],\n",
              " 'pages': 3372,\n",
              " 'response_time': 0.230307817459106,\n",
              " 'type': 'JOBS'}"
            ]
          },
          "metadata": {},
          "execution_count": 45
        }
      ]
    },
    {
      "cell_type": "code",
      "source": [
        "type(result_json_5)"
      ],
      "metadata": {
        "colab": {
          "base_uri": "https://localhost:8080/"
        },
        "id": "bRpht9699cu5",
        "outputId": "62235e46-5a97-4547-83c4-d517b486863b"
      },
      "execution_count": null,
      "outputs": [
        {
          "output_type": "execute_result",
          "data": {
            "text/plain": [
              "dict"
            ]
          },
          "metadata": {},
          "execution_count": 46
        }
      ]
    },
    {
      "cell_type": "code",
      "source": [
        "result_json_5.keys()"
      ],
      "metadata": {
        "colab": {
          "base_uri": "https://localhost:8080/"
        },
        "id": "KyDQkxC-AwYT",
        "outputId": "1390038e-bc88-4b52-badb-30a6fe3652c0"
      },
      "execution_count": null,
      "outputs": [
        {
          "output_type": "execute_result",
          "data": {
            "text/plain": [
              "dict_keys(['jobs', 'hits', 'response_time', 'type', 'pages'])"
            ]
          },
          "metadata": {},
          "execution_count": 47
        }
      ]
    },
    {
      "cell_type": "code",
      "source": [
        "del result_json_5['response_time']\n",
        "del result_json_5['type']\n",
        "del result_json_5['pages']"
      ],
      "metadata": {
        "id": "uFGGjbGSg4ck"
      },
      "execution_count": null,
      "outputs": []
    },
    {
      "cell_type": "code",
      "source": [
        "result_json_5.keys()"
      ],
      "metadata": {
        "colab": {
          "base_uri": "https://localhost:8080/"
        },
        "id": "LLfCU0wMy4hO",
        "outputId": "7c785915-d49f-4f00-8a51-2c2b86576f7e"
      },
      "execution_count": null,
      "outputs": [
        {
          "output_type": "execute_result",
          "data": {
            "text/plain": [
              "dict_keys(['jobs'])"
            ]
          },
          "metadata": {},
          "execution_count": 54
        }
      ]
    },
    {
      "cell_type": "code",
      "source": [
        "result_json_5['jobs'][0].keys()"
      ],
      "metadata": {
        "colab": {
          "base_uri": "https://localhost:8080/"
        },
        "id": "Rq2JxyvSA48c",
        "outputId": "c75db944-8b65-4e11-dce4-0bb4774d0e6f"
      },
      "execution_count": null,
      "outputs": [
        {
          "output_type": "execute_result",
          "data": {
            "text/plain": [
              "dict_keys(['locations', 'site', 'date', 'url', 'title', 'description', 'company', 'salary'])"
            ]
          },
          "metadata": {},
          "execution_count": 58
        }
      ]
    },
    {
      "cell_type": "code",
      "source": [
        "result_json_5['jobs'][0].keys('locations')"
      ],
      "metadata": {
        "colab": {
          "base_uri": "https://localhost:8080/",
          "height": 166
        },
        "id": "CwclV7amzn2f",
        "outputId": "34a4a12b-76fe-450e-9380-8d600c5f19e1"
      },
      "execution_count": null,
      "outputs": [
        {
          "output_type": "error",
          "ename": "TypeError",
          "evalue": "ignored",
          "traceback": [
            "\u001b[0;31m---------------------------------------------------------------------------\u001b[0m",
            "\u001b[0;31mTypeError\u001b[0m                                 Traceback (most recent call last)",
            "\u001b[0;32m<ipython-input-66-139f3333d684>\u001b[0m in \u001b[0;36m<module>\u001b[0;34m()\u001b[0m\n\u001b[0;32m----> 1\u001b[0;31m \u001b[0mresult_json_5\u001b[0m\u001b[0;34m[\u001b[0m\u001b[0;34m'jobs'\u001b[0m\u001b[0;34m]\u001b[0m\u001b[0;34m[\u001b[0m\u001b[0;36m0\u001b[0m\u001b[0;34m]\u001b[0m\u001b[0;34m.\u001b[0m\u001b[0mkeys\u001b[0m\u001b[0;34m[\u001b[0m\u001b[0;34m'locations'\u001b[0m\u001b[0;34m]\u001b[0m\u001b[0;34m\u001b[0m\u001b[0;34m\u001b[0m\u001b[0m\n\u001b[0m",
            "\u001b[0;31mTypeError\u001b[0m: 'builtin_function_or_method' object is not subscriptable"
          ]
        }
      ]
    }
  ]
}