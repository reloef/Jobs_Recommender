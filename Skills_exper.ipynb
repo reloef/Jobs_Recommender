{
  "nbformat": 4,
  "nbformat_minor": 0,
  "metadata": {
    "colab": {
      "name": "Skills_exper.ipynb",
      "provenance": [],
      "collapsed_sections": [],
      "authorship_tag": "ABX9TyPFLQ50/yVnQqYz+fdT6ns0",
      "include_colab_link": true
    },
    "kernelspec": {
      "name": "python3",
      "display_name": "Python 3"
    },
    "language_info": {
      "name": "python"
    }
  },
  "cells": [
    {
      "cell_type": "markdown",
      "metadata": {
        "id": "view-in-github",
        "colab_type": "text"
      },
      "source": [
        "<a href=\"https://colab.research.google.com/github/reloef/Jobs_Recommender/blob/master/Skills_exper.ipynb\" target=\"_parent\"><img src=\"https://colab.research.google.com/assets/colab-badge.svg\" alt=\"Open In Colab\"/></a>"
      ]
    },
    {
      "cell_type": "code",
      "execution_count": null,
      "metadata": {
        "id": "3rjhNRa61xIQ"
      },
      "outputs": [],
      "source": [
        "# import libraries\n",
        "import requests\n",
        "import pandas as pd\n",
        "import time\n",
        "\n",
        "#Import warnings\n",
        "import warnings\n",
        "warnings.filterwarnings('ignore')\n",
        "warnings.simplefilter(action='ignore', category=FutureWarning)\n",
        "\n",
        "# imports for NLP\n",
        "import pandas as pd\n",
        "import numpy as np\n",
        "import nltk\n",
        "import string\n",
        "import re\n",
        "from sklearn.pipeline import Pipeline\n",
        "import pickle\n",
        "\n",
        "\n",
        "# feature extraction\n",
        "from sklearn.feature_extraction.text import CountVectorizer\n",
        "from sklearn.feature_extraction.text import TfidfVectorizer\n",
        "\n",
        "# Preprocessing\n",
        "#import contractions\n",
        "import os\n",
        "from nltk.tokenize import WordPunctTokenizer\n",
        "from bs4 import BeautifulSoup\n",
        "from textblob import TextBlob\n",
        "from collections import Counter\n",
        "from nltk.corpus import wordnet\n",
        "from nltk.corpus import stopwords\n",
        "from nltk.stem import WordNetLemmatizer\n",
        "from nltk.tokenize import word_tokenize\n",
        "from nltk.tokenize import TweetTokenizer\n",
        "from nltk.stem.porter import *\n",
        "import spacy\n",
        "from spacy import displacy\n",
        "from spacy.lang.en.stop_words import STOP_WORDS\n",
        "from sklearn.preprocessing import label_binarize\n",
        "from sklearn.model_selection import train_test_split"
      ]
    },
    {
      "cell_type": "code",
      "source": [
        "from google.colab import files\n",
        "uploaded = files.upload()"
      ],
      "metadata": {
        "colab": {
          "resources": {
            "http://localhost:8080/nbextensions/google.colab/files.js": {
              "data": "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",
              "ok": true,
              "headers": [
                [
                  "content-type",
                  "application/javascript"
                ]
              ],
              "status": 200,
              "status_text": ""
            }
          },
          "base_uri": "https://localhost:8080/",
          "height": 73
        },
        "id": "qAjo8-alCO77",
        "outputId": "4f126a02-1a8a-4a42-8773-7244a7908d7e"
      },
      "execution_count": null,
      "outputs": [
        {
          "output_type": "display_data",
          "data": {
            "text/plain": [
              "<IPython.core.display.HTML object>"
            ],
            "text/html": [
              "\n",
              "     <input type=\"file\" id=\"files-b87c1295-142d-4eed-99b2-41abe9c6ed97\" name=\"files[]\" multiple disabled\n",
              "        style=\"border:none\" />\n",
              "     <output id=\"result-b87c1295-142d-4eed-99b2-41abe9c6ed97\">\n",
              "      Upload widget is only available when the cell has been executed in the\n",
              "      current browser session. Please rerun this cell to enable.\n",
              "      </output>\n",
              "      <script src=\"/nbextensions/google.colab/files.js\"></script> "
            ]
          },
          "metadata": {}
        },
        {
          "output_type": "stream",
          "name": "stdout",
          "text": [
            "Saving SA.csv to SA.csv\n"
          ]
        }
      ]
    },
    {
      "cell_type": "code",
      "source": [
        "import io"
      ],
      "metadata": {
        "id": "GMXB7wgKDQET"
      },
      "execution_count": null,
      "outputs": []
    },
    {
      "cell_type": "markdown",
      "source": [
        "##Ruquest API from careerjet"
      ],
      "metadata": {
        "id": "EgZdhYXn2yMP"
      }
    },
    {
      "cell_type": "code",
      "source": [
        "df = pd.read_csv(io.BytesIO(uploaded['SA.csv']))\n",
        "print(df)"
      ],
      "metadata": {
        "colab": {
          "base_uri": "https://localhost:8080/"
        },
        "id": "mWr0EJFA2Yd_",
        "outputId": "769330ae-2ff3-4d10-fb64-dfe9de5fd5b4"
      },
      "execution_count": null,
      "outputs": [
        {
          "output_type": "stream",
          "name": "stdout",
          "text": [
            "                locations  site                       date  \\\n",
            "0   Johannesburg, Gauteng   NaN  2022-04-29 07:52:13+00:00   \n",
            "1       Pretoria, Gauteng   NaN  2022-04-24 07:36:21+00:00   \n",
            "2   Johannesburg, Gauteng   NaN  2022-04-20 23:49:44+00:00   \n",
            "3   Midrand, Johannesburg   NaN  2022-04-15 06:38:12+00:00   \n",
            "4   Midrand, Johannesburg   NaN  2022-04-15 01:04:44+00:00   \n",
            "..                    ...   ...                        ...   \n",
            "94  Johannesburg, Gauteng   NaN  2022-04-27 22:05:38+00:00   \n",
            "95           South Africa   NaN  2022-04-27 22:01:12+00:00   \n",
            "96  Johannesburg, Gauteng   NaN  2022-04-27 07:55:07+00:00   \n",
            "97  Johannesburg, Gauteng   NaN  2022-04-27 07:44:14+00:00   \n",
            "98           South Africa   NaN  2022-04-27 05:23:19+00:00   \n",
            "\n",
            "                                                  url  \\\n",
            "0   http://jobviewtrack.com/en-za/job-1f1841694c10...   \n",
            "1   http://jobviewtrack.com/en-za/job-4f13416c7a37...   \n",
            "2   http://jobviewtrack.com/en-za/job-121341694c10...   \n",
            "3   http://jobviewtrack.com/en-za/job-1c1b41694c10...   \n",
            "4   http://jobviewtrack.com/en-za/job-1c1b41694c10...   \n",
            "..                                                ...   \n",
            "94  http://jobviewtrack.com/en-za/job-1e1241694c10...   \n",
            "95  http://jobviewtrack.com/en-za/job-1e1c416a5f05...   \n",
            "96  http://jobviewtrack.com/en-za/job-4b4d416c5711...   \n",
            "97  http://jobviewtrack.com/en-za/job-4c1a417e480a...   \n",
            "98  http://jobviewtrack.com/en-za/job-1c4a41694c10...   \n",
            "\n",
            "                                                title  \\\n",
            "0                     Data Analytics Sales Specialist   \n",
            "1   AWS Data Science Architect – Semi Remote – R74...   \n",
            "2              Consultant, Data Science and Analytics   \n",
            "3   AWS Data Science Architect (Contract) Midrand/...   \n",
            "4   AWS Data Science Architect (Contract) Midrand/...   \n",
            "..                                                ...   \n",
            "94            Data Engineer and Management Specialist   \n",
            "95  Data and Analytics 2023 Graduate Programme (Jo...   \n",
            "96  Senior Azure Data Engineer – Sandton – up to R...   \n",
            "97            Senior Data Analyst - Mining - Contract   \n",
            "98                                      Analyst: Data   \n",
            "\n",
            "                                          description                 company  \\\n",
            "0    Warehouses, <b>Data</b> Streaming, ETL, <b>Da...                  Google   \n",
            "1    AWS <b>Data</b> <b>Science</b> Architect to j...  e-Merge IT Recruitment   \n",
            "2      Consultant, <b>Data</b> <b>Science</b> and ...              TransUnion   \n",
            "3   AWS <b>Data</b> <b>Science</b> Architect (Cont...       iSanqa Resourcing   \n",
            "4   AWS <b>Data</b> <b>Science</b> Architect (Cont...       iSanqa Resourcing   \n",
            "..                                                ...                     ...   \n",
            "94  Johannesburg North - Mindworx is hiring <b>Dat...                Mindworx   \n",
            "95     Strong academic record including a degree i...                      EY   \n",
            "96   of practical analytics and smart technologies...  e-Merge IT Recruitment   \n",
            "97   origin of a <b>data</b> field and all the pro...            Talent Genie   \n",
            "98   to business problems. Build scalable infrastr...           Standard Bank   \n",
            "\n",
            "                 salary  salary_min salary_type salary_currency_code  \\\n",
            "0                   NaN         NaN         NaN                  NaN   \n",
            "1   R619 - 742 per hour       619.0           H                  ZAR   \n",
            "2                   NaN         NaN         NaN                  NaN   \n",
            "3                   NaN         NaN         NaN                  NaN   \n",
            "4                   NaN         NaN         NaN                  NaN   \n",
            "..                  ...         ...         ...                  ...   \n",
            "94                  NaN         NaN         NaN                  NaN   \n",
            "95                  NaN         NaN         NaN                  NaN   \n",
            "96                  NaN         NaN         NaN                  NaN   \n",
            "97                  NaN         NaN         NaN                  NaN   \n",
            "98                  NaN         NaN         NaN                  NaN   \n",
            "\n",
            "    salary_max  \n",
            "0          NaN  \n",
            "1        742.0  \n",
            "2          NaN  \n",
            "3          NaN  \n",
            "4          NaN  \n",
            "..         ...  \n",
            "94         NaN  \n",
            "95         NaN  \n",
            "96         NaN  \n",
            "97         NaN  \n",
            "98         NaN  \n",
            "\n",
            "[99 rows x 12 columns]\n"
          ]
        }
      ]
    },
    {
      "cell_type": "code",
      "source": [
        "df.head()"
      ],
      "metadata": {
        "id": "7mwMQzwF2ZP6",
        "colab": {
          "base_uri": "https://localhost:8080/",
          "height": 617
        },
        "outputId": "beec3c47-0b09-451e-b36c-569fcbfbf736"
      },
      "execution_count": null,
      "outputs": [
        {
          "output_type": "execute_result",
          "data": {
            "text/plain": [
              "               locations  site                       date  \\\n",
              "0  Johannesburg, Gauteng   NaN  2022-04-29 07:52:13+00:00   \n",
              "1      Pretoria, Gauteng   NaN  2022-04-24 07:36:21+00:00   \n",
              "2  Johannesburg, Gauteng   NaN  2022-04-20 23:49:44+00:00   \n",
              "3  Midrand, Johannesburg   NaN  2022-04-15 06:38:12+00:00   \n",
              "4  Midrand, Johannesburg   NaN  2022-04-15 01:04:44+00:00   \n",
              "\n",
              "                                                 url  \\\n",
              "0  http://jobviewtrack.com/en-za/job-1f1841694c10...   \n",
              "1  http://jobviewtrack.com/en-za/job-4f13416c7a37...   \n",
              "2  http://jobviewtrack.com/en-za/job-121341694c10...   \n",
              "3  http://jobviewtrack.com/en-za/job-1c1b41694c10...   \n",
              "4  http://jobviewtrack.com/en-za/job-1c1b41694c10...   \n",
              "\n",
              "                                               title  \\\n",
              "0                    Data Analytics Sales Specialist   \n",
              "1  AWS Data Science Architect – Semi Remote – R74...   \n",
              "2             Consultant, Data Science and Analytics   \n",
              "3  AWS Data Science Architect (Contract) Midrand/...   \n",
              "4  AWS Data Science Architect (Contract) Midrand/...   \n",
              "\n",
              "                                         description                 company  \\\n",
              "0   Warehouses, <b>Data</b> Streaming, ETL, <b>Da...                  Google   \n",
              "1   AWS <b>Data</b> <b>Science</b> Architect to j...  e-Merge IT Recruitment   \n",
              "2     Consultant, <b>Data</b> <b>Science</b> and ...              TransUnion   \n",
              "3  AWS <b>Data</b> <b>Science</b> Architect (Cont...       iSanqa Resourcing   \n",
              "4  AWS <b>Data</b> <b>Science</b> Architect (Cont...       iSanqa Resourcing   \n",
              "\n",
              "                salary  salary_min salary_type salary_currency_code  \\\n",
              "0                  NaN         NaN         NaN                  NaN   \n",
              "1  R619 - 742 per hour       619.0           H                  ZAR   \n",
              "2                  NaN         NaN         NaN                  NaN   \n",
              "3                  NaN         NaN         NaN                  NaN   \n",
              "4                  NaN         NaN         NaN                  NaN   \n",
              "\n",
              "   salary_max  \n",
              "0         NaN  \n",
              "1       742.0  \n",
              "2         NaN  \n",
              "3         NaN  \n",
              "4         NaN  "
            ],
            "text/html": [
              "\n",
              "  <div id=\"df-4c6d3d37-f0ee-4c7a-8f6b-b1d28fb8b560\">\n",
              "    <div class=\"colab-df-container\">\n",
              "      <div>\n",
              "<style scoped>\n",
              "    .dataframe tbody tr th:only-of-type {\n",
              "        vertical-align: middle;\n",
              "    }\n",
              "\n",
              "    .dataframe tbody tr th {\n",
              "        vertical-align: top;\n",
              "    }\n",
              "\n",
              "    .dataframe thead th {\n",
              "        text-align: right;\n",
              "    }\n",
              "</style>\n",
              "<table border=\"1\" class=\"dataframe\">\n",
              "  <thead>\n",
              "    <tr style=\"text-align: right;\">\n",
              "      <th></th>\n",
              "      <th>locations</th>\n",
              "      <th>site</th>\n",
              "      <th>date</th>\n",
              "      <th>url</th>\n",
              "      <th>title</th>\n",
              "      <th>description</th>\n",
              "      <th>company</th>\n",
              "      <th>salary</th>\n",
              "      <th>salary_min</th>\n",
              "      <th>salary_type</th>\n",
              "      <th>salary_currency_code</th>\n",
              "      <th>salary_max</th>\n",
              "    </tr>\n",
              "  </thead>\n",
              "  <tbody>\n",
              "    <tr>\n",
              "      <th>0</th>\n",
              "      <td>Johannesburg, Gauteng</td>\n",
              "      <td>NaN</td>\n",
              "      <td>2022-04-29 07:52:13+00:00</td>\n",
              "      <td>http://jobviewtrack.com/en-za/job-1f1841694c10...</td>\n",
              "      <td>Data Analytics Sales Specialist</td>\n",
              "      <td>Warehouses, &lt;b&gt;Data&lt;/b&gt; Streaming, ETL, &lt;b&gt;Da...</td>\n",
              "      <td>Google</td>\n",
              "      <td>NaN</td>\n",
              "      <td>NaN</td>\n",
              "      <td>NaN</td>\n",
              "      <td>NaN</td>\n",
              "      <td>NaN</td>\n",
              "    </tr>\n",
              "    <tr>\n",
              "      <th>1</th>\n",
              "      <td>Pretoria, Gauteng</td>\n",
              "      <td>NaN</td>\n",
              "      <td>2022-04-24 07:36:21+00:00</td>\n",
              "      <td>http://jobviewtrack.com/en-za/job-4f13416c7a37...</td>\n",
              "      <td>AWS Data Science Architect – Semi Remote – R74...</td>\n",
              "      <td>AWS &lt;b&gt;Data&lt;/b&gt; &lt;b&gt;Science&lt;/b&gt; Architect to j...</td>\n",
              "      <td>e-Merge IT Recruitment</td>\n",
              "      <td>R619 - 742 per hour</td>\n",
              "      <td>619.0</td>\n",
              "      <td>H</td>\n",
              "      <td>ZAR</td>\n",
              "      <td>742.0</td>\n",
              "    </tr>\n",
              "    <tr>\n",
              "      <th>2</th>\n",
              "      <td>Johannesburg, Gauteng</td>\n",
              "      <td>NaN</td>\n",
              "      <td>2022-04-20 23:49:44+00:00</td>\n",
              "      <td>http://jobviewtrack.com/en-za/job-121341694c10...</td>\n",
              "      <td>Consultant, Data Science and Analytics</td>\n",
              "      <td>Consultant, &lt;b&gt;Data&lt;/b&gt; &lt;b&gt;Science&lt;/b&gt; and ...</td>\n",
              "      <td>TransUnion</td>\n",
              "      <td>NaN</td>\n",
              "      <td>NaN</td>\n",
              "      <td>NaN</td>\n",
              "      <td>NaN</td>\n",
              "      <td>NaN</td>\n",
              "    </tr>\n",
              "    <tr>\n",
              "      <th>3</th>\n",
              "      <td>Midrand, Johannesburg</td>\n",
              "      <td>NaN</td>\n",
              "      <td>2022-04-15 06:38:12+00:00</td>\n",
              "      <td>http://jobviewtrack.com/en-za/job-1c1b41694c10...</td>\n",
              "      <td>AWS Data Science Architect (Contract) Midrand/...</td>\n",
              "      <td>AWS &lt;b&gt;Data&lt;/b&gt; &lt;b&gt;Science&lt;/b&gt; Architect (Cont...</td>\n",
              "      <td>iSanqa Resourcing</td>\n",
              "      <td>NaN</td>\n",
              "      <td>NaN</td>\n",
              "      <td>NaN</td>\n",
              "      <td>NaN</td>\n",
              "      <td>NaN</td>\n",
              "    </tr>\n",
              "    <tr>\n",
              "      <th>4</th>\n",
              "      <td>Midrand, Johannesburg</td>\n",
              "      <td>NaN</td>\n",
              "      <td>2022-04-15 01:04:44+00:00</td>\n",
              "      <td>http://jobviewtrack.com/en-za/job-1c1b41694c10...</td>\n",
              "      <td>AWS Data Science Architect (Contract) Midrand/...</td>\n",
              "      <td>AWS &lt;b&gt;Data&lt;/b&gt; &lt;b&gt;Science&lt;/b&gt; Architect (Cont...</td>\n",
              "      <td>iSanqa Resourcing</td>\n",
              "      <td>NaN</td>\n",
              "      <td>NaN</td>\n",
              "      <td>NaN</td>\n",
              "      <td>NaN</td>\n",
              "      <td>NaN</td>\n",
              "    </tr>\n",
              "  </tbody>\n",
              "</table>\n",
              "</div>\n",
              "      <button class=\"colab-df-convert\" onclick=\"convertToInteractive('df-4c6d3d37-f0ee-4c7a-8f6b-b1d28fb8b560')\"\n",
              "              title=\"Convert this dataframe to an interactive table.\"\n",
              "              style=\"display:none;\">\n",
              "        \n",
              "  <svg xmlns=\"http://www.w3.org/2000/svg\" height=\"24px\"viewBox=\"0 0 24 24\"\n",
              "       width=\"24px\">\n",
              "    <path d=\"M0 0h24v24H0V0z\" fill=\"none\"/>\n",
              "    <path d=\"M18.56 5.44l.94 2.06.94-2.06 2.06-.94-2.06-.94-.94-2.06-.94 2.06-2.06.94zm-11 1L8.5 8.5l.94-2.06 2.06-.94-2.06-.94L8.5 2.5l-.94 2.06-2.06.94zm10 10l.94 2.06.94-2.06 2.06-.94-2.06-.94-.94-2.06-.94 2.06-2.06.94z\"/><path d=\"M17.41 7.96l-1.37-1.37c-.4-.4-.92-.59-1.43-.59-.52 0-1.04.2-1.43.59L10.3 9.45l-7.72 7.72c-.78.78-.78 2.05 0 2.83L4 21.41c.39.39.9.59 1.41.59.51 0 1.02-.2 1.41-.59l7.78-7.78 2.81-2.81c.8-.78.8-2.07 0-2.86zM5.41 20L4 18.59l7.72-7.72 1.47 1.35L5.41 20z\"/>\n",
              "  </svg>\n",
              "      </button>\n",
              "      \n",
              "  <style>\n",
              "    .colab-df-container {\n",
              "      display:flex;\n",
              "      flex-wrap:wrap;\n",
              "      gap: 12px;\n",
              "    }\n",
              "\n",
              "    .colab-df-convert {\n",
              "      background-color: #E8F0FE;\n",
              "      border: none;\n",
              "      border-radius: 50%;\n",
              "      cursor: pointer;\n",
              "      display: none;\n",
              "      fill: #1967D2;\n",
              "      height: 32px;\n",
              "      padding: 0 0 0 0;\n",
              "      width: 32px;\n",
              "    }\n",
              "\n",
              "    .colab-df-convert:hover {\n",
              "      background-color: #E2EBFA;\n",
              "      box-shadow: 0px 1px 2px rgba(60, 64, 67, 0.3), 0px 1px 3px 1px rgba(60, 64, 67, 0.15);\n",
              "      fill: #174EA6;\n",
              "    }\n",
              "\n",
              "    [theme=dark] .colab-df-convert {\n",
              "      background-color: #3B4455;\n",
              "      fill: #D2E3FC;\n",
              "    }\n",
              "\n",
              "    [theme=dark] .colab-df-convert:hover {\n",
              "      background-color: #434B5C;\n",
              "      box-shadow: 0px 1px 3px 1px rgba(0, 0, 0, 0.15);\n",
              "      filter: drop-shadow(0px 1px 2px rgba(0, 0, 0, 0.3));\n",
              "      fill: #FFFFFF;\n",
              "    }\n",
              "  </style>\n",
              "\n",
              "      <script>\n",
              "        const buttonEl =\n",
              "          document.querySelector('#df-4c6d3d37-f0ee-4c7a-8f6b-b1d28fb8b560 button.colab-df-convert');\n",
              "        buttonEl.style.display =\n",
              "          google.colab.kernel.accessAllowed ? 'block' : 'none';\n",
              "\n",
              "        async function convertToInteractive(key) {\n",
              "          const element = document.querySelector('#df-4c6d3d37-f0ee-4c7a-8f6b-b1d28fb8b560');\n",
              "          const dataTable =\n",
              "            await google.colab.kernel.invokeFunction('convertToInteractive',\n",
              "                                                     [key], {});\n",
              "          if (!dataTable) return;\n",
              "\n",
              "          const docLinkHtml = 'Like what you see? Visit the ' +\n",
              "            '<a target=\"_blank\" href=https://colab.research.google.com/notebooks/data_table.ipynb>data table notebook</a>'\n",
              "            + ' to learn more about interactive tables.';\n",
              "          element.innerHTML = '';\n",
              "          dataTable['output_type'] = 'display_data';\n",
              "          await google.colab.output.renderOutput(dataTable, element);\n",
              "          const docLink = document.createElement('div');\n",
              "          docLink.innerHTML = docLinkHtml;\n",
              "          element.appendChild(docLink);\n",
              "        }\n",
              "      </script>\n",
              "    </div>\n",
              "  </div>\n",
              "  "
            ]
          },
          "metadata": {},
          "execution_count": 8
        }
      ]
    },
    {
      "cell_type": "code",
      "source": [
        "df.info()"
      ],
      "metadata": {
        "id": "D13yLeor2Y3O",
        "colab": {
          "base_uri": "https://localhost:8080/"
        },
        "outputId": "85917ecf-aec2-455a-ac0e-2931cab9ce81"
      },
      "execution_count": null,
      "outputs": [
        {
          "output_type": "stream",
          "name": "stdout",
          "text": [
            "<class 'pandas.core.frame.DataFrame'>\n",
            "RangeIndex: 99 entries, 0 to 98\n",
            "Data columns (total 12 columns):\n",
            " #   Column                Non-Null Count  Dtype  \n",
            "---  ------                --------------  -----  \n",
            " 0   locations             99 non-null     object \n",
            " 1   site                  0 non-null      float64\n",
            " 2   date                  99 non-null     object \n",
            " 3   url                   99 non-null     object \n",
            " 4   title                 99 non-null     object \n",
            " 5   description           99 non-null     object \n",
            " 6   company               83 non-null     object \n",
            " 7   salary                13 non-null     object \n",
            " 8   salary_min            13 non-null     float64\n",
            " 9   salary_type           13 non-null     object \n",
            " 10  salary_currency_code  13 non-null     object \n",
            " 11  salary_max            13 non-null     float64\n",
            "dtypes: float64(3), object(9)\n",
            "memory usage: 9.4+ KB\n"
          ]
        }
      ]
    },
    {
      "cell_type": "code",
      "source": [
        "descr = df['description']"
      ],
      "metadata": {
        "id": "l05sBDQyEgtO"
      },
      "execution_count": null,
      "outputs": []
    },
    {
      "cell_type": "code",
      "source": [
        " df_1 = pd.DataFrame.from_dict(df)"
      ],
      "metadata": {
        "id": "XVES_TscEgp4"
      },
      "execution_count": null,
      "outputs": []
    },
    {
      "cell_type": "code",
      "source": [
        "df_1.head()"
      ],
      "metadata": {
        "colab": {
          "base_uri": "https://localhost:8080/",
          "height": 617
        },
        "id": "gcPuCnD5Egml",
        "outputId": "b31b69d4-64e1-43de-f3b2-fe9a49353c94"
      },
      "execution_count": null,
      "outputs": [
        {
          "output_type": "execute_result",
          "data": {
            "text/plain": [
              "               locations  site                       date  \\\n",
              "0  Johannesburg, Gauteng   NaN  2022-04-29 07:52:13+00:00   \n",
              "1      Pretoria, Gauteng   NaN  2022-04-24 07:36:21+00:00   \n",
              "2  Johannesburg, Gauteng   NaN  2022-04-20 23:49:44+00:00   \n",
              "3  Midrand, Johannesburg   NaN  2022-04-15 06:38:12+00:00   \n",
              "4  Midrand, Johannesburg   NaN  2022-04-15 01:04:44+00:00   \n",
              "\n",
              "                                                 url  \\\n",
              "0  http://jobviewtrack.com/en-za/job-1f1841694c10...   \n",
              "1  http://jobviewtrack.com/en-za/job-4f13416c7a37...   \n",
              "2  http://jobviewtrack.com/en-za/job-121341694c10...   \n",
              "3  http://jobviewtrack.com/en-za/job-1c1b41694c10...   \n",
              "4  http://jobviewtrack.com/en-za/job-1c1b41694c10...   \n",
              "\n",
              "                                               title  \\\n",
              "0                    Data Analytics Sales Specialist   \n",
              "1  AWS Data Science Architect – Semi Remote – R74...   \n",
              "2             Consultant, Data Science and Analytics   \n",
              "3  AWS Data Science Architect (Contract) Midrand/...   \n",
              "4  AWS Data Science Architect (Contract) Midrand/...   \n",
              "\n",
              "                                         description                 company  \\\n",
              "0   Warehouses, <b>Data</b> Streaming, ETL, <b>Da...                  Google   \n",
              "1   AWS <b>Data</b> <b>Science</b> Architect to j...  e-Merge IT Recruitment   \n",
              "2     Consultant, <b>Data</b> <b>Science</b> and ...              TransUnion   \n",
              "3  AWS <b>Data</b> <b>Science</b> Architect (Cont...       iSanqa Resourcing   \n",
              "4  AWS <b>Data</b> <b>Science</b> Architect (Cont...       iSanqa Resourcing   \n",
              "\n",
              "                salary  salary_min salary_type salary_currency_code  \\\n",
              "0                  NaN         NaN         NaN                  NaN   \n",
              "1  R619 - 742 per hour       619.0           H                  ZAR   \n",
              "2                  NaN         NaN         NaN                  NaN   \n",
              "3                  NaN         NaN         NaN                  NaN   \n",
              "4                  NaN         NaN         NaN                  NaN   \n",
              "\n",
              "   salary_max  \n",
              "0         NaN  \n",
              "1       742.0  \n",
              "2         NaN  \n",
              "3         NaN  \n",
              "4         NaN  "
            ],
            "text/html": [
              "\n",
              "  <div id=\"df-342d7125-bb5a-4b7c-a793-5a990f897aca\">\n",
              "    <div class=\"colab-df-container\">\n",
              "      <div>\n",
              "<style scoped>\n",
              "    .dataframe tbody tr th:only-of-type {\n",
              "        vertical-align: middle;\n",
              "    }\n",
              "\n",
              "    .dataframe tbody tr th {\n",
              "        vertical-align: top;\n",
              "    }\n",
              "\n",
              "    .dataframe thead th {\n",
              "        text-align: right;\n",
              "    }\n",
              "</style>\n",
              "<table border=\"1\" class=\"dataframe\">\n",
              "  <thead>\n",
              "    <tr style=\"text-align: right;\">\n",
              "      <th></th>\n",
              "      <th>locations</th>\n",
              "      <th>site</th>\n",
              "      <th>date</th>\n",
              "      <th>url</th>\n",
              "      <th>title</th>\n",
              "      <th>description</th>\n",
              "      <th>company</th>\n",
              "      <th>salary</th>\n",
              "      <th>salary_min</th>\n",
              "      <th>salary_type</th>\n",
              "      <th>salary_currency_code</th>\n",
              "      <th>salary_max</th>\n",
              "    </tr>\n",
              "  </thead>\n",
              "  <tbody>\n",
              "    <tr>\n",
              "      <th>0</th>\n",
              "      <td>Johannesburg, Gauteng</td>\n",
              "      <td>NaN</td>\n",
              "      <td>2022-04-29 07:52:13+00:00</td>\n",
              "      <td>http://jobviewtrack.com/en-za/job-1f1841694c10...</td>\n",
              "      <td>Data Analytics Sales Specialist</td>\n",
              "      <td>Warehouses, &lt;b&gt;Data&lt;/b&gt; Streaming, ETL, &lt;b&gt;Da...</td>\n",
              "      <td>Google</td>\n",
              "      <td>NaN</td>\n",
              "      <td>NaN</td>\n",
              "      <td>NaN</td>\n",
              "      <td>NaN</td>\n",
              "      <td>NaN</td>\n",
              "    </tr>\n",
              "    <tr>\n",
              "      <th>1</th>\n",
              "      <td>Pretoria, Gauteng</td>\n",
              "      <td>NaN</td>\n",
              "      <td>2022-04-24 07:36:21+00:00</td>\n",
              "      <td>http://jobviewtrack.com/en-za/job-4f13416c7a37...</td>\n",
              "      <td>AWS Data Science Architect – Semi Remote – R74...</td>\n",
              "      <td>AWS &lt;b&gt;Data&lt;/b&gt; &lt;b&gt;Science&lt;/b&gt; Architect to j...</td>\n",
              "      <td>e-Merge IT Recruitment</td>\n",
              "      <td>R619 - 742 per hour</td>\n",
              "      <td>619.0</td>\n",
              "      <td>H</td>\n",
              "      <td>ZAR</td>\n",
              "      <td>742.0</td>\n",
              "    </tr>\n",
              "    <tr>\n",
              "      <th>2</th>\n",
              "      <td>Johannesburg, Gauteng</td>\n",
              "      <td>NaN</td>\n",
              "      <td>2022-04-20 23:49:44+00:00</td>\n",
              "      <td>http://jobviewtrack.com/en-za/job-121341694c10...</td>\n",
              "      <td>Consultant, Data Science and Analytics</td>\n",
              "      <td>Consultant, &lt;b&gt;Data&lt;/b&gt; &lt;b&gt;Science&lt;/b&gt; and ...</td>\n",
              "      <td>TransUnion</td>\n",
              "      <td>NaN</td>\n",
              "      <td>NaN</td>\n",
              "      <td>NaN</td>\n",
              "      <td>NaN</td>\n",
              "      <td>NaN</td>\n",
              "    </tr>\n",
              "    <tr>\n",
              "      <th>3</th>\n",
              "      <td>Midrand, Johannesburg</td>\n",
              "      <td>NaN</td>\n",
              "      <td>2022-04-15 06:38:12+00:00</td>\n",
              "      <td>http://jobviewtrack.com/en-za/job-1c1b41694c10...</td>\n",
              "      <td>AWS Data Science Architect (Contract) Midrand/...</td>\n",
              "      <td>AWS &lt;b&gt;Data&lt;/b&gt; &lt;b&gt;Science&lt;/b&gt; Architect (Cont...</td>\n",
              "      <td>iSanqa Resourcing</td>\n",
              "      <td>NaN</td>\n",
              "      <td>NaN</td>\n",
              "      <td>NaN</td>\n",
              "      <td>NaN</td>\n",
              "      <td>NaN</td>\n",
              "    </tr>\n",
              "    <tr>\n",
              "      <th>4</th>\n",
              "      <td>Midrand, Johannesburg</td>\n",
              "      <td>NaN</td>\n",
              "      <td>2022-04-15 01:04:44+00:00</td>\n",
              "      <td>http://jobviewtrack.com/en-za/job-1c1b41694c10...</td>\n",
              "      <td>AWS Data Science Architect (Contract) Midrand/...</td>\n",
              "      <td>AWS &lt;b&gt;Data&lt;/b&gt; &lt;b&gt;Science&lt;/b&gt; Architect (Cont...</td>\n",
              "      <td>iSanqa Resourcing</td>\n",
              "      <td>NaN</td>\n",
              "      <td>NaN</td>\n",
              "      <td>NaN</td>\n",
              "      <td>NaN</td>\n",
              "      <td>NaN</td>\n",
              "    </tr>\n",
              "  </tbody>\n",
              "</table>\n",
              "</div>\n",
              "      <button class=\"colab-df-convert\" onclick=\"convertToInteractive('df-342d7125-bb5a-4b7c-a793-5a990f897aca')\"\n",
              "              title=\"Convert this dataframe to an interactive table.\"\n",
              "              style=\"display:none;\">\n",
              "        \n",
              "  <svg xmlns=\"http://www.w3.org/2000/svg\" height=\"24px\"viewBox=\"0 0 24 24\"\n",
              "       width=\"24px\">\n",
              "    <path d=\"M0 0h24v24H0V0z\" fill=\"none\"/>\n",
              "    <path d=\"M18.56 5.44l.94 2.06.94-2.06 2.06-.94-2.06-.94-.94-2.06-.94 2.06-2.06.94zm-11 1L8.5 8.5l.94-2.06 2.06-.94-2.06-.94L8.5 2.5l-.94 2.06-2.06.94zm10 10l.94 2.06.94-2.06 2.06-.94-2.06-.94-.94-2.06-.94 2.06-2.06.94z\"/><path d=\"M17.41 7.96l-1.37-1.37c-.4-.4-.92-.59-1.43-.59-.52 0-1.04.2-1.43.59L10.3 9.45l-7.72 7.72c-.78.78-.78 2.05 0 2.83L4 21.41c.39.39.9.59 1.41.59.51 0 1.02-.2 1.41-.59l7.78-7.78 2.81-2.81c.8-.78.8-2.07 0-2.86zM5.41 20L4 18.59l7.72-7.72 1.47 1.35L5.41 20z\"/>\n",
              "  </svg>\n",
              "      </button>\n",
              "      \n",
              "  <style>\n",
              "    .colab-df-container {\n",
              "      display:flex;\n",
              "      flex-wrap:wrap;\n",
              "      gap: 12px;\n",
              "    }\n",
              "\n",
              "    .colab-df-convert {\n",
              "      background-color: #E8F0FE;\n",
              "      border: none;\n",
              "      border-radius: 50%;\n",
              "      cursor: pointer;\n",
              "      display: none;\n",
              "      fill: #1967D2;\n",
              "      height: 32px;\n",
              "      padding: 0 0 0 0;\n",
              "      width: 32px;\n",
              "    }\n",
              "\n",
              "    .colab-df-convert:hover {\n",
              "      background-color: #E2EBFA;\n",
              "      box-shadow: 0px 1px 2px rgba(60, 64, 67, 0.3), 0px 1px 3px 1px rgba(60, 64, 67, 0.15);\n",
              "      fill: #174EA6;\n",
              "    }\n",
              "\n",
              "    [theme=dark] .colab-df-convert {\n",
              "      background-color: #3B4455;\n",
              "      fill: #D2E3FC;\n",
              "    }\n",
              "\n",
              "    [theme=dark] .colab-df-convert:hover {\n",
              "      background-color: #434B5C;\n",
              "      box-shadow: 0px 1px 3px 1px rgba(0, 0, 0, 0.15);\n",
              "      filter: drop-shadow(0px 1px 2px rgba(0, 0, 0, 0.3));\n",
              "      fill: #FFFFFF;\n",
              "    }\n",
              "  </style>\n",
              "\n",
              "      <script>\n",
              "        const buttonEl =\n",
              "          document.querySelector('#df-342d7125-bb5a-4b7c-a793-5a990f897aca button.colab-df-convert');\n",
              "        buttonEl.style.display =\n",
              "          google.colab.kernel.accessAllowed ? 'block' : 'none';\n",
              "\n",
              "        async function convertToInteractive(key) {\n",
              "          const element = document.querySelector('#df-342d7125-bb5a-4b7c-a793-5a990f897aca');\n",
              "          const dataTable =\n",
              "            await google.colab.kernel.invokeFunction('convertToInteractive',\n",
              "                                                     [key], {});\n",
              "          if (!dataTable) return;\n",
              "\n",
              "          const docLinkHtml = 'Like what you see? Visit the ' +\n",
              "            '<a target=\"_blank\" href=https://colab.research.google.com/notebooks/data_table.ipynb>data table notebook</a>'\n",
              "            + ' to learn more about interactive tables.';\n",
              "          element.innerHTML = '';\n",
              "          dataTable['output_type'] = 'display_data';\n",
              "          await google.colab.output.renderOutput(dataTable, element);\n",
              "          const docLink = document.createElement('div');\n",
              "          docLink.innerHTML = docLinkHtml;\n",
              "          element.appendChild(docLink);\n",
              "        }\n",
              "      </script>\n",
              "    </div>\n",
              "  </div>\n",
              "  "
            ]
          },
          "metadata": {},
          "execution_count": 12
        }
      ]
    },
    {
      "cell_type": "code",
      "source": [
        "df_1['description'][5]"
      ],
      "metadata": {
        "colab": {
          "base_uri": "https://localhost:8080/",
          "height": 53
        },
        "id": "7FPHD_V2Egg6",
        "outputId": "5e46d26d-9795-446a-a0ec-2b8cae7c0d73"
      },
      "execution_count": null,
      "outputs": [
        {
          "output_type": "execute_result",
          "data": {
            "text/plain": [
              "'I am representing a reputable insurance giant who is looking for <b>Data</b> <b>Science</b> Manager to lead their team. The ideal... today.   We require a candidate with:   Min 4 Years exp.   Machine learning   Maths AND <b>Data</b> experience   Should you meet the...'"
            ],
            "application/vnd.google.colaboratory.intrinsic+json": {
              "type": "string"
            }
          },
          "metadata": {},
          "execution_count": 13
        }
      ]
    },
    {
      "cell_type": "code",
      "source": [
        "df_1.shape"
      ],
      "metadata": {
        "colab": {
          "base_uri": "https://localhost:8080/"
        },
        "id": "HYkuZKINEgdr",
        "outputId": "eae90387-467a-40e1-adf8-488f800bba66"
      },
      "execution_count": null,
      "outputs": [
        {
          "output_type": "execute_result",
          "data": {
            "text/plain": [
              "(99, 12)"
            ]
          },
          "metadata": {},
          "execution_count": 14
        }
      ]
    },
    {
      "cell_type": "markdown",
      "source": [
        "Check for nulls in descrition column"
      ],
      "metadata": {
        "id": "LJOWCzjpKWri"
      }
    },
    {
      "cell_type": "code",
      "source": [
        "df_1['description'].isna().sum()"
      ],
      "metadata": {
        "colab": {
          "base_uri": "https://localhost:8080/"
        },
        "id": "XYLlSGSMEgav",
        "outputId": "fa0fccd4-eeaa-4b1a-8639-51982f4d8399"
      },
      "execution_count": null,
      "outputs": [
        {
          "output_type": "execute_result",
          "data": {
            "text/plain": [
              "0"
            ]
          },
          "metadata": {},
          "execution_count": 15
        }
      ]
    },
    {
      "cell_type": "markdown",
      "source": [
        "Cleaning description column data"
      ],
      "metadata": {
        "id": "LldifBnzMxRY"
      }
    },
    {
      "cell_type": "code",
      "source": [
        "nltk.download('stopwords')\n",
        "nltk.download('wordnet')"
      ],
      "metadata": {
        "colab": {
          "base_uri": "https://localhost:8080/"
        },
        "id": "VQhxuRkmOZEZ",
        "outputId": "bad84c32-6b47-4dd4-f76e-4663fd85debf"
      },
      "execution_count": null,
      "outputs": [
        {
          "output_type": "stream",
          "name": "stdout",
          "text": [
            "[nltk_data] Downloading package stopwords to /root/nltk_data...\n",
            "[nltk_data]   Unzipping corpora/stopwords.zip.\n",
            "[nltk_data] Downloading package wordnet to /root/nltk_data...\n",
            "[nltk_data]   Unzipping corpora/wordnet.zip.\n"
          ]
        },
        {
          "output_type": "execute_result",
          "data": {
            "text/plain": [
              "True"
            ]
          },
          "metadata": {},
          "execution_count": 16
        }
      ]
    },
    {
      "cell_type": "code",
      "source": [
        "from textblob import Word\n",
        "\n",
        "## Lower case\n",
        "df_1['description'] = df_1['description'].apply(lambda x: \" \".join(x.lower()for x in x.split()))\n",
        "## remove tabulation and punctuation\n",
        "df_1['description'] = df_1['description'].str.replace('[^\\w\\s]',' ')\n",
        "## digits\n",
        "#df_1['description'] = df_1['description'].str.replace('\\d+', '')\n",
        "\n",
        "#remove single letters\n",
        "df_1['description'] = df_1['description'].str.replace(r'\\b\\w\\b', '').str.replace(r'\\s+', ' ')\n",
        "\n",
        "#remove stop words\n",
        "\n",
        "stop = stopwords.words('english')\n",
        "df_1['description'] = df_1['description'].apply(lambda x: \" \".join(x for x in x.split() if x not in stop))\n",
        "\n",
        "## lemmatization\n",
        "df_1['description'] = df_1['description'].apply(lambda x: \" \".join([Word(word).lemmatize() for word in x.split()]))\n",
        "\n",
        "print(\"Preprocessed data: \\n\")\n"
      ],
      "metadata": {
        "colab": {
          "base_uri": "https://localhost:8080/"
        },
        "id": "vYOTIRYxEgXb",
        "outputId": "d53d37c8-811a-4d26-f0ff-72f403b3e3e2"
      },
      "execution_count": null,
      "outputs": [
        {
          "output_type": "stream",
          "name": "stdout",
          "text": [
            "Preprocessed data: \n",
            "\n"
          ]
        }
      ]
    },
    {
      "cell_type": "code",
      "source": [
        "df_1.head()"
      ],
      "metadata": {
        "colab": {
          "base_uri": "https://localhost:8080/",
          "height": 687
        },
        "id": "zvCn5o4TEgUF",
        "outputId": "825f0c74-a6a7-4297-8fcf-e53bf58d3308"
      },
      "execution_count": null,
      "outputs": [
        {
          "output_type": "execute_result",
          "data": {
            "text/plain": [
              "               locations  site                       date  \\\n",
              "0  Johannesburg, Gauteng   NaN  2022-04-29 07:52:13+00:00   \n",
              "1      Pretoria, Gauteng   NaN  2022-04-24 07:36:21+00:00   \n",
              "2  Johannesburg, Gauteng   NaN  2022-04-20 23:49:44+00:00   \n",
              "3  Midrand, Johannesburg   NaN  2022-04-15 06:38:12+00:00   \n",
              "4  Midrand, Johannesburg   NaN  2022-04-15 01:04:44+00:00   \n",
              "\n",
              "                                                 url  \\\n",
              "0  http://jobviewtrack.com/en-za/job-1f1841694c10...   \n",
              "1  http://jobviewtrack.com/en-za/job-4f13416c7a37...   \n",
              "2  http://jobviewtrack.com/en-za/job-121341694c10...   \n",
              "3  http://jobviewtrack.com/en-za/job-1c1b41694c10...   \n",
              "4  http://jobviewtrack.com/en-za/job-1c1b41694c10...   \n",
              "\n",
              "                                               title  \\\n",
              "0                    Data Analytics Sales Specialist   \n",
              "1  AWS Data Science Architect – Semi Remote – R74...   \n",
              "2             Consultant, Data Science and Analytics   \n",
              "3  AWS Data Science Architect (Contract) Midrand/...   \n",
              "4  AWS Data Science Architect (Contract) Midrand/...   \n",
              "\n",
              "                                         description                 company  \\\n",
              "0  warehouse data streaming etl data governance b...                  Google   \n",
              "1  aws data science architect join dynamic team r...  e-Merge IT Recruitment   \n",
              "2  consultant data science analytics research tec...              TransUnion   \n",
              "3  aws data science architect contract midrand me...       iSanqa Resourcing   \n",
              "4  aws data science architect contract midrand me...       iSanqa Resourcing   \n",
              "\n",
              "                salary  salary_min salary_type salary_currency_code  \\\n",
              "0                  NaN         NaN         NaN                  NaN   \n",
              "1  R619 - 742 per hour       619.0           H                  ZAR   \n",
              "2                  NaN         NaN         NaN                  NaN   \n",
              "3                  NaN         NaN         NaN                  NaN   \n",
              "4                  NaN         NaN         NaN                  NaN   \n",
              "\n",
              "   salary_max  \n",
              "0         NaN  \n",
              "1       742.0  \n",
              "2         NaN  \n",
              "3         NaN  \n",
              "4         NaN  "
            ],
            "text/html": [
              "\n",
              "  <div id=\"df-ea1aa96a-d9a7-4aa1-82c7-a00bbc70a72c\">\n",
              "    <div class=\"colab-df-container\">\n",
              "      <div>\n",
              "<style scoped>\n",
              "    .dataframe tbody tr th:only-of-type {\n",
              "        vertical-align: middle;\n",
              "    }\n",
              "\n",
              "    .dataframe tbody tr th {\n",
              "        vertical-align: top;\n",
              "    }\n",
              "\n",
              "    .dataframe thead th {\n",
              "        text-align: right;\n",
              "    }\n",
              "</style>\n",
              "<table border=\"1\" class=\"dataframe\">\n",
              "  <thead>\n",
              "    <tr style=\"text-align: right;\">\n",
              "      <th></th>\n",
              "      <th>locations</th>\n",
              "      <th>site</th>\n",
              "      <th>date</th>\n",
              "      <th>url</th>\n",
              "      <th>title</th>\n",
              "      <th>description</th>\n",
              "      <th>company</th>\n",
              "      <th>salary</th>\n",
              "      <th>salary_min</th>\n",
              "      <th>salary_type</th>\n",
              "      <th>salary_currency_code</th>\n",
              "      <th>salary_max</th>\n",
              "    </tr>\n",
              "  </thead>\n",
              "  <tbody>\n",
              "    <tr>\n",
              "      <th>0</th>\n",
              "      <td>Johannesburg, Gauteng</td>\n",
              "      <td>NaN</td>\n",
              "      <td>2022-04-29 07:52:13+00:00</td>\n",
              "      <td>http://jobviewtrack.com/en-za/job-1f1841694c10...</td>\n",
              "      <td>Data Analytics Sales Specialist</td>\n",
              "      <td>warehouse data streaming etl data governance b...</td>\n",
              "      <td>Google</td>\n",
              "      <td>NaN</td>\n",
              "      <td>NaN</td>\n",
              "      <td>NaN</td>\n",
              "      <td>NaN</td>\n",
              "      <td>NaN</td>\n",
              "    </tr>\n",
              "    <tr>\n",
              "      <th>1</th>\n",
              "      <td>Pretoria, Gauteng</td>\n",
              "      <td>NaN</td>\n",
              "      <td>2022-04-24 07:36:21+00:00</td>\n",
              "      <td>http://jobviewtrack.com/en-za/job-4f13416c7a37...</td>\n",
              "      <td>AWS Data Science Architect – Semi Remote – R74...</td>\n",
              "      <td>aws data science architect join dynamic team r...</td>\n",
              "      <td>e-Merge IT Recruitment</td>\n",
              "      <td>R619 - 742 per hour</td>\n",
              "      <td>619.0</td>\n",
              "      <td>H</td>\n",
              "      <td>ZAR</td>\n",
              "      <td>742.0</td>\n",
              "    </tr>\n",
              "    <tr>\n",
              "      <th>2</th>\n",
              "      <td>Johannesburg, Gauteng</td>\n",
              "      <td>NaN</td>\n",
              "      <td>2022-04-20 23:49:44+00:00</td>\n",
              "      <td>http://jobviewtrack.com/en-za/job-121341694c10...</td>\n",
              "      <td>Consultant, Data Science and Analytics</td>\n",
              "      <td>consultant data science analytics research tec...</td>\n",
              "      <td>TransUnion</td>\n",
              "      <td>NaN</td>\n",
              "      <td>NaN</td>\n",
              "      <td>NaN</td>\n",
              "      <td>NaN</td>\n",
              "      <td>NaN</td>\n",
              "    </tr>\n",
              "    <tr>\n",
              "      <th>3</th>\n",
              "      <td>Midrand, Johannesburg</td>\n",
              "      <td>NaN</td>\n",
              "      <td>2022-04-15 06:38:12+00:00</td>\n",
              "      <td>http://jobviewtrack.com/en-za/job-1c1b41694c10...</td>\n",
              "      <td>AWS Data Science Architect (Contract) Midrand/...</td>\n",
              "      <td>aws data science architect contract midrand me...</td>\n",
              "      <td>iSanqa Resourcing</td>\n",
              "      <td>NaN</td>\n",
              "      <td>NaN</td>\n",
              "      <td>NaN</td>\n",
              "      <td>NaN</td>\n",
              "      <td>NaN</td>\n",
              "    </tr>\n",
              "    <tr>\n",
              "      <th>4</th>\n",
              "      <td>Midrand, Johannesburg</td>\n",
              "      <td>NaN</td>\n",
              "      <td>2022-04-15 01:04:44+00:00</td>\n",
              "      <td>http://jobviewtrack.com/en-za/job-1c1b41694c10...</td>\n",
              "      <td>AWS Data Science Architect (Contract) Midrand/...</td>\n",
              "      <td>aws data science architect contract midrand me...</td>\n",
              "      <td>iSanqa Resourcing</td>\n",
              "      <td>NaN</td>\n",
              "      <td>NaN</td>\n",
              "      <td>NaN</td>\n",
              "      <td>NaN</td>\n",
              "      <td>NaN</td>\n",
              "    </tr>\n",
              "  </tbody>\n",
              "</table>\n",
              "</div>\n",
              "      <button class=\"colab-df-convert\" onclick=\"convertToInteractive('df-ea1aa96a-d9a7-4aa1-82c7-a00bbc70a72c')\"\n",
              "              title=\"Convert this dataframe to an interactive table.\"\n",
              "              style=\"display:none;\">\n",
              "        \n",
              "  <svg xmlns=\"http://www.w3.org/2000/svg\" height=\"24px\"viewBox=\"0 0 24 24\"\n",
              "       width=\"24px\">\n",
              "    <path d=\"M0 0h24v24H0V0z\" fill=\"none\"/>\n",
              "    <path d=\"M18.56 5.44l.94 2.06.94-2.06 2.06-.94-2.06-.94-.94-2.06-.94 2.06-2.06.94zm-11 1L8.5 8.5l.94-2.06 2.06-.94-2.06-.94L8.5 2.5l-.94 2.06-2.06.94zm10 10l.94 2.06.94-2.06 2.06-.94-2.06-.94-.94-2.06-.94 2.06-2.06.94z\"/><path d=\"M17.41 7.96l-1.37-1.37c-.4-.4-.92-.59-1.43-.59-.52 0-1.04.2-1.43.59L10.3 9.45l-7.72 7.72c-.78.78-.78 2.05 0 2.83L4 21.41c.39.39.9.59 1.41.59.51 0 1.02-.2 1.41-.59l7.78-7.78 2.81-2.81c.8-.78.8-2.07 0-2.86zM5.41 20L4 18.59l7.72-7.72 1.47 1.35L5.41 20z\"/>\n",
              "  </svg>\n",
              "      </button>\n",
              "      \n",
              "  <style>\n",
              "    .colab-df-container {\n",
              "      display:flex;\n",
              "      flex-wrap:wrap;\n",
              "      gap: 12px;\n",
              "    }\n",
              "\n",
              "    .colab-df-convert {\n",
              "      background-color: #E8F0FE;\n",
              "      border: none;\n",
              "      border-radius: 50%;\n",
              "      cursor: pointer;\n",
              "      display: none;\n",
              "      fill: #1967D2;\n",
              "      height: 32px;\n",
              "      padding: 0 0 0 0;\n",
              "      width: 32px;\n",
              "    }\n",
              "\n",
              "    .colab-df-convert:hover {\n",
              "      background-color: #E2EBFA;\n",
              "      box-shadow: 0px 1px 2px rgba(60, 64, 67, 0.3), 0px 1px 3px 1px rgba(60, 64, 67, 0.15);\n",
              "      fill: #174EA6;\n",
              "    }\n",
              "\n",
              "    [theme=dark] .colab-df-convert {\n",
              "      background-color: #3B4455;\n",
              "      fill: #D2E3FC;\n",
              "    }\n",
              "\n",
              "    [theme=dark] .colab-df-convert:hover {\n",
              "      background-color: #434B5C;\n",
              "      box-shadow: 0px 1px 3px 1px rgba(0, 0, 0, 0.15);\n",
              "      filter: drop-shadow(0px 1px 2px rgba(0, 0, 0, 0.3));\n",
              "      fill: #FFFFFF;\n",
              "    }\n",
              "  </style>\n",
              "\n",
              "      <script>\n",
              "        const buttonEl =\n",
              "          document.querySelector('#df-ea1aa96a-d9a7-4aa1-82c7-a00bbc70a72c button.colab-df-convert');\n",
              "        buttonEl.style.display =\n",
              "          google.colab.kernel.accessAllowed ? 'block' : 'none';\n",
              "\n",
              "        async function convertToInteractive(key) {\n",
              "          const element = document.querySelector('#df-ea1aa96a-d9a7-4aa1-82c7-a00bbc70a72c');\n",
              "          const dataTable =\n",
              "            await google.colab.kernel.invokeFunction('convertToInteractive',\n",
              "                                                     [key], {});\n",
              "          if (!dataTable) return;\n",
              "\n",
              "          const docLinkHtml = 'Like what you see? Visit the ' +\n",
              "            '<a target=\"_blank\" href=https://colab.research.google.com/notebooks/data_table.ipynb>data table notebook</a>'\n",
              "            + ' to learn more about interactive tables.';\n",
              "          element.innerHTML = '';\n",
              "          dataTable['output_type'] = 'display_data';\n",
              "          await google.colab.output.renderOutput(dataTable, element);\n",
              "          const docLink = document.createElement('div');\n",
              "          docLink.innerHTML = docLinkHtml;\n",
              "          element.appendChild(docLink);\n",
              "        }\n",
              "      </script>\n",
              "    </div>\n",
              "  </div>\n",
              "  "
            ]
          },
          "metadata": {},
          "execution_count": 29
        }
      ]
    },
    {
      "cell_type": "code",
      "source": [
        ""
      ],
      "metadata": {
        "id": "LBQCgoNQuO7a"
      },
      "execution_count": null,
      "outputs": []
    },
    {
      "cell_type": "code",
      "source": [
        "decr=df_1['description']"
      ],
      "metadata": {
        "id": "9eXnwTlhEgOo"
      },
      "execution_count": null,
      "outputs": []
    },
    {
      "cell_type": "code",
      "source": [
        "print(decr[7])"
      ],
      "metadata": {
        "colab": {
          "base_uri": "https://localhost:8080/"
        },
        "id": "lJyh8dwxmHmw",
        "outputId": "f3af9fe5-3a38-4135-e6b9-7efa2a8d6129"
      },
      "execution_count": null,
      "outputs": [
        {
          "output_type": "stream",
          "name": "stdout",
          "text": [
            "data science senior manager gautengduties responsibilitiesas senior data scientist primary role lead participate data science project solving variety use case across group customer\n"
          ]
        }
      ]
    },
    {
      "cell_type": "code",
      "source": [
        "#def list_numbers_in_words(decr):\n",
        "#    ns = str(n)\n",
        "#    single_digits = [\"zero\", \"one\", \"two\", \"three\",  \n",
        "#                     \"four\", \"five\", \"six\", \"seven\",  \n",
        "#                     \"eight\", \"nine\"]\n",
        "#    return [\n",
        "#        single_digits[int(nsi)]\n",
        "#        for nsi in ns\n",
        "#    ]"
      ],
      "metadata": {
        "id": "vm9MnfNPEgCa"
      },
      "execution_count": null,
      "outputs": []
    },
    {
      "cell_type": "code",
      "source": [
        ""
      ],
      "metadata": {
        "id": "3wLwXbqzlLln"
      },
      "execution_count": null,
      "outputs": []
    },
    {
      "cell_type": "code",
      "source": [
        "print(decr.tail())"
      ],
      "metadata": {
        "colab": {
          "base_uri": "https://localhost:8080/"
        },
        "id": "PdTH1QnulLh-",
        "outputId": "622b1e29-c7b7-480f-dfae-807b2877cb8b"
      },
      "execution_count": null,
      "outputs": [
        {
          "output_type": "stream",
          "name": "stdout",
          "text": [
            "94    johannesburg north mindworx hiring data engine...\n",
            "95    strong academic record including degree one fo...\n",
            "96    practical analytics smart technology hunt seas...\n",
            "97    origin data field process use field qualificat...\n",
            "98    business problem build scalable infrastructure...\n",
            "Name: description, dtype: object\n"
          ]
        }
      ]
    },
    {
      "cell_type": "code",
      "source": [
        ""
      ],
      "metadata": {
        "id": "Jelu3MtYlLe8"
      },
      "execution_count": null,
      "outputs": []
    },
    {
      "cell_type": "code",
      "source": [
        ""
      ],
      "metadata": {
        "id": "GKkJYBKqlLbd"
      },
      "execution_count": null,
      "outputs": []
    },
    {
      "cell_type": "code",
      "source": [
        "dictnr = {'experience','years','2 years','3 years','4 years','5 years','2 yrs','3 yrs','4 yrs','5 yrs','min 2 years','min 3 years','min 4 years','min 5 years'}"
      ],
      "metadata": {
        "id": "R4tKmKW8lLX4"
      },
      "execution_count": null,
      "outputs": []
    },
    {
      "cell_type": "code",
      "source": [
        "#dff['Skills+experience'] = dff['description'].str.extract('_(V\\d+)$').fillna('')"
      ],
      "metadata": {
        "id": "ptH6Y-AwlLUP"
      },
      "execution_count": null,
      "outputs": []
    },
    {
      "cell_type": "markdown",
      "source": [
        "Creating the skills+experience column"
      ],
      "metadata": {
        "id": "0ganQkPi9zE3"
      }
    },
    {
      "cell_type": "code",
      "source": [
        "def create_2_grams(list_):\n",
        "    two_grams=[]\n",
        "    for i in range(len(list_)-1):\n",
        "        two_grams.append(list_[i]+\" \"+list_[i+1])\n",
        "    return two_grams\n",
        "\n",
        "def find_skillsexp(description_):\n",
        "    description_=remove_punctuation(description_)\n",
        "    message_tokens=description_.lower().split()\n",
        "    one_grams=[x for x in message_tokens if x in dictnr]\n",
        "    return one_grams\n",
        "\n",
        "def add_skills_exp(df_1):\n",
        "    df_1['skills_expeience']=np.nan\n",
        "    df_1['skills_expeience']=df_1['description'].map(find_skillsexp)\n",
        "    return df_1\n",
        "\n",
        "def remove_punctuation(words):\n",
        "    words_2=re.sub(r'[^\\w\\s]','',words)\n",
        "    words_3=re.sub(r'<b>','',words_2)\n",
        "    words_4=re.sub(r'</b>','',words_3)\n",
        "    return words_4"
      ],
      "metadata": {
        "id": "b7UvWzNglLRU"
      },
      "execution_count": null,
      "outputs": []
    },
    {
      "cell_type": "code",
      "source": [
        "df_jobs=add_skills_exp(df_1)\n",
        "df_jobs.head()"
      ],
      "metadata": {
        "id": "4Kr1ZreQlLNI",
        "colab": {
          "base_uri": "https://localhost:8080/",
          "height": 687
        },
        "outputId": "7bf1737e-fd7e-4ba4-a4f3-b3aeb21d684c"
      },
      "execution_count": null,
      "outputs": [
        {
          "output_type": "execute_result",
          "data": {
            "text/plain": [
              "               locations  site                       date  \\\n",
              "0  Johannesburg, Gauteng   NaN  2022-04-29 07:52:13+00:00   \n",
              "1      Pretoria, Gauteng   NaN  2022-04-24 07:36:21+00:00   \n",
              "2  Johannesburg, Gauteng   NaN  2022-04-20 23:49:44+00:00   \n",
              "3  Midrand, Johannesburg   NaN  2022-04-15 06:38:12+00:00   \n",
              "4  Midrand, Johannesburg   NaN  2022-04-15 01:04:44+00:00   \n",
              "\n",
              "                                                 url  \\\n",
              "0  http://jobviewtrack.com/en-za/job-1f1841694c10...   \n",
              "1  http://jobviewtrack.com/en-za/job-4f13416c7a37...   \n",
              "2  http://jobviewtrack.com/en-za/job-121341694c10...   \n",
              "3  http://jobviewtrack.com/en-za/job-1c1b41694c10...   \n",
              "4  http://jobviewtrack.com/en-za/job-1c1b41694c10...   \n",
              "\n",
              "                                               title  \\\n",
              "0                    Data Analytics Sales Specialist   \n",
              "1  AWS Data Science Architect – Semi Remote – R74...   \n",
              "2             Consultant, Data Science and Analytics   \n",
              "3  AWS Data Science Architect (Contract) Midrand/...   \n",
              "4  AWS Data Science Architect (Contract) Midrand/...   \n",
              "\n",
              "                                         description                 company  \\\n",
              "0  warehouse data streaming etl data governance b...                  Google   \n",
              "1  aws data science architect join dynamic team r...  e-Merge IT Recruitment   \n",
              "2  consultant data science analytics research tec...              TransUnion   \n",
              "3  aws data science architect contract midrand me...       iSanqa Resourcing   \n",
              "4  aws data science architect contract midrand me...       iSanqa Resourcing   \n",
              "\n",
              "                salary  salary_min salary_type salary_currency_code  \\\n",
              "0                  NaN         NaN         NaN                  NaN   \n",
              "1  R619 - 742 per hour       619.0           H                  ZAR   \n",
              "2                  NaN         NaN         NaN                  NaN   \n",
              "3                  NaN         NaN         NaN                  NaN   \n",
              "4                  NaN         NaN         NaN                  NaN   \n",
              "\n",
              "   salary_max                      skills_expeience  \n",
              "0         NaN  [experience, experience, experience]  \n",
              "1       742.0              [experience, experience]  \n",
              "2         NaN                                    []  \n",
              "3         NaN                          [experience]  \n",
              "4         NaN                                    []  "
            ],
            "text/html": [
              "\n",
              "  <div id=\"df-95fe371d-3de8-4d4e-88f9-15191b0d5944\">\n",
              "    <div class=\"colab-df-container\">\n",
              "      <div>\n",
              "<style scoped>\n",
              "    .dataframe tbody tr th:only-of-type {\n",
              "        vertical-align: middle;\n",
              "    }\n",
              "\n",
              "    .dataframe tbody tr th {\n",
              "        vertical-align: top;\n",
              "    }\n",
              "\n",
              "    .dataframe thead th {\n",
              "        text-align: right;\n",
              "    }\n",
              "</style>\n",
              "<table border=\"1\" class=\"dataframe\">\n",
              "  <thead>\n",
              "    <tr style=\"text-align: right;\">\n",
              "      <th></th>\n",
              "      <th>locations</th>\n",
              "      <th>site</th>\n",
              "      <th>date</th>\n",
              "      <th>url</th>\n",
              "      <th>title</th>\n",
              "      <th>description</th>\n",
              "      <th>company</th>\n",
              "      <th>salary</th>\n",
              "      <th>salary_min</th>\n",
              "      <th>salary_type</th>\n",
              "      <th>salary_currency_code</th>\n",
              "      <th>salary_max</th>\n",
              "      <th>skills_expeience</th>\n",
              "    </tr>\n",
              "  </thead>\n",
              "  <tbody>\n",
              "    <tr>\n",
              "      <th>0</th>\n",
              "      <td>Johannesburg, Gauteng</td>\n",
              "      <td>NaN</td>\n",
              "      <td>2022-04-29 07:52:13+00:00</td>\n",
              "      <td>http://jobviewtrack.com/en-za/job-1f1841694c10...</td>\n",
              "      <td>Data Analytics Sales Specialist</td>\n",
              "      <td>warehouse data streaming etl data governance b...</td>\n",
              "      <td>Google</td>\n",
              "      <td>NaN</td>\n",
              "      <td>NaN</td>\n",
              "      <td>NaN</td>\n",
              "      <td>NaN</td>\n",
              "      <td>NaN</td>\n",
              "      <td>[experience, experience, experience]</td>\n",
              "    </tr>\n",
              "    <tr>\n",
              "      <th>1</th>\n",
              "      <td>Pretoria, Gauteng</td>\n",
              "      <td>NaN</td>\n",
              "      <td>2022-04-24 07:36:21+00:00</td>\n",
              "      <td>http://jobviewtrack.com/en-za/job-4f13416c7a37...</td>\n",
              "      <td>AWS Data Science Architect – Semi Remote – R74...</td>\n",
              "      <td>aws data science architect join dynamic team r...</td>\n",
              "      <td>e-Merge IT Recruitment</td>\n",
              "      <td>R619 - 742 per hour</td>\n",
              "      <td>619.0</td>\n",
              "      <td>H</td>\n",
              "      <td>ZAR</td>\n",
              "      <td>742.0</td>\n",
              "      <td>[experience, experience]</td>\n",
              "    </tr>\n",
              "    <tr>\n",
              "      <th>2</th>\n",
              "      <td>Johannesburg, Gauteng</td>\n",
              "      <td>NaN</td>\n",
              "      <td>2022-04-20 23:49:44+00:00</td>\n",
              "      <td>http://jobviewtrack.com/en-za/job-121341694c10...</td>\n",
              "      <td>Consultant, Data Science and Analytics</td>\n",
              "      <td>consultant data science analytics research tec...</td>\n",
              "      <td>TransUnion</td>\n",
              "      <td>NaN</td>\n",
              "      <td>NaN</td>\n",
              "      <td>NaN</td>\n",
              "      <td>NaN</td>\n",
              "      <td>NaN</td>\n",
              "      <td>[]</td>\n",
              "    </tr>\n",
              "    <tr>\n",
              "      <th>3</th>\n",
              "      <td>Midrand, Johannesburg</td>\n",
              "      <td>NaN</td>\n",
              "      <td>2022-04-15 06:38:12+00:00</td>\n",
              "      <td>http://jobviewtrack.com/en-za/job-1c1b41694c10...</td>\n",
              "      <td>AWS Data Science Architect (Contract) Midrand/...</td>\n",
              "      <td>aws data science architect contract midrand me...</td>\n",
              "      <td>iSanqa Resourcing</td>\n",
              "      <td>NaN</td>\n",
              "      <td>NaN</td>\n",
              "      <td>NaN</td>\n",
              "      <td>NaN</td>\n",
              "      <td>NaN</td>\n",
              "      <td>[experience]</td>\n",
              "    </tr>\n",
              "    <tr>\n",
              "      <th>4</th>\n",
              "      <td>Midrand, Johannesburg</td>\n",
              "      <td>NaN</td>\n",
              "      <td>2022-04-15 01:04:44+00:00</td>\n",
              "      <td>http://jobviewtrack.com/en-za/job-1c1b41694c10...</td>\n",
              "      <td>AWS Data Science Architect (Contract) Midrand/...</td>\n",
              "      <td>aws data science architect contract midrand me...</td>\n",
              "      <td>iSanqa Resourcing</td>\n",
              "      <td>NaN</td>\n",
              "      <td>NaN</td>\n",
              "      <td>NaN</td>\n",
              "      <td>NaN</td>\n",
              "      <td>NaN</td>\n",
              "      <td>[]</td>\n",
              "    </tr>\n",
              "  </tbody>\n",
              "</table>\n",
              "</div>\n",
              "      <button class=\"colab-df-convert\" onclick=\"convertToInteractive('df-95fe371d-3de8-4d4e-88f9-15191b0d5944')\"\n",
              "              title=\"Convert this dataframe to an interactive table.\"\n",
              "              style=\"display:none;\">\n",
              "        \n",
              "  <svg xmlns=\"http://www.w3.org/2000/svg\" height=\"24px\"viewBox=\"0 0 24 24\"\n",
              "       width=\"24px\">\n",
              "    <path d=\"M0 0h24v24H0V0z\" fill=\"none\"/>\n",
              "    <path d=\"M18.56 5.44l.94 2.06.94-2.06 2.06-.94-2.06-.94-.94-2.06-.94 2.06-2.06.94zm-11 1L8.5 8.5l.94-2.06 2.06-.94-2.06-.94L8.5 2.5l-.94 2.06-2.06.94zm10 10l.94 2.06.94-2.06 2.06-.94-2.06-.94-.94-2.06-.94 2.06-2.06.94z\"/><path d=\"M17.41 7.96l-1.37-1.37c-.4-.4-.92-.59-1.43-.59-.52 0-1.04.2-1.43.59L10.3 9.45l-7.72 7.72c-.78.78-.78 2.05 0 2.83L4 21.41c.39.39.9.59 1.41.59.51 0 1.02-.2 1.41-.59l7.78-7.78 2.81-2.81c.8-.78.8-2.07 0-2.86zM5.41 20L4 18.59l7.72-7.72 1.47 1.35L5.41 20z\"/>\n",
              "  </svg>\n",
              "      </button>\n",
              "      \n",
              "  <style>\n",
              "    .colab-df-container {\n",
              "      display:flex;\n",
              "      flex-wrap:wrap;\n",
              "      gap: 12px;\n",
              "    }\n",
              "\n",
              "    .colab-df-convert {\n",
              "      background-color: #E8F0FE;\n",
              "      border: none;\n",
              "      border-radius: 50%;\n",
              "      cursor: pointer;\n",
              "      display: none;\n",
              "      fill: #1967D2;\n",
              "      height: 32px;\n",
              "      padding: 0 0 0 0;\n",
              "      width: 32px;\n",
              "    }\n",
              "\n",
              "    .colab-df-convert:hover {\n",
              "      background-color: #E2EBFA;\n",
              "      box-shadow: 0px 1px 2px rgba(60, 64, 67, 0.3), 0px 1px 3px 1px rgba(60, 64, 67, 0.15);\n",
              "      fill: #174EA6;\n",
              "    }\n",
              "\n",
              "    [theme=dark] .colab-df-convert {\n",
              "      background-color: #3B4455;\n",
              "      fill: #D2E3FC;\n",
              "    }\n",
              "\n",
              "    [theme=dark] .colab-df-convert:hover {\n",
              "      background-color: #434B5C;\n",
              "      box-shadow: 0px 1px 3px 1px rgba(0, 0, 0, 0.15);\n",
              "      filter: drop-shadow(0px 1px 2px rgba(0, 0, 0, 0.3));\n",
              "      fill: #FFFFFF;\n",
              "    }\n",
              "  </style>\n",
              "\n",
              "      <script>\n",
              "        const buttonEl =\n",
              "          document.querySelector('#df-95fe371d-3de8-4d4e-88f9-15191b0d5944 button.colab-df-convert');\n",
              "        buttonEl.style.display =\n",
              "          google.colab.kernel.accessAllowed ? 'block' : 'none';\n",
              "\n",
              "        async function convertToInteractive(key) {\n",
              "          const element = document.querySelector('#df-95fe371d-3de8-4d4e-88f9-15191b0d5944');\n",
              "          const dataTable =\n",
              "            await google.colab.kernel.invokeFunction('convertToInteractive',\n",
              "                                                     [key], {});\n",
              "          if (!dataTable) return;\n",
              "\n",
              "          const docLinkHtml = 'Like what you see? Visit the ' +\n",
              "            '<a target=\"_blank\" href=https://colab.research.google.com/notebooks/data_table.ipynb>data table notebook</a>'\n",
              "            + ' to learn more about interactive tables.';\n",
              "          element.innerHTML = '';\n",
              "          dataTable['output_type'] = 'display_data';\n",
              "          await google.colab.output.renderOutput(dataTable, element);\n",
              "          const docLink = document.createElement('div');\n",
              "          docLink.innerHTML = docLinkHtml;\n",
              "          element.appendChild(docLink);\n",
              "        }\n",
              "      </script>\n",
              "    </div>\n",
              "  </div>\n",
              "  "
            ]
          },
          "metadata": {},
          "execution_count": 77
        }
      ]
    },
    {
      "cell_type": "code",
      "source": [
        "df_jobs['skills_expeience'].isna().sum()"
      ],
      "metadata": {
        "id": "IhbH0ER0lLKI",
        "colab": {
          "base_uri": "https://localhost:8080/"
        },
        "outputId": "192cf524-fae1-4140-9910-f4d89e227aeb"
      },
      "execution_count": null,
      "outputs": [
        {
          "output_type": "execute_result",
          "data": {
            "text/plain": [
              "0"
            ]
          },
          "metadata": {},
          "execution_count": 78
        }
      ]
    },
    {
      "cell_type": "code",
      "source": [
        "df_jobs['skills_expeience']"
      ],
      "metadata": {
        "id": "4tN-jwWPlLE5",
        "colab": {
          "base_uri": "https://localhost:8080/"
        },
        "outputId": "e25e535b-0469-4c3c-a31d-14eb0ddb4c1d"
      },
      "execution_count": null,
      "outputs": [
        {
          "output_type": "execute_result",
          "data": {
            "text/plain": [
              "0     [experience, experience, experience]\n",
              "1                 [experience, experience]\n",
              "2                                       []\n",
              "3                             [experience]\n",
              "4                                       []\n",
              "                      ...                 \n",
              "94                                      []\n",
              "95                            [experience]\n",
              "96                                      []\n",
              "97                                      []\n",
              "98                                      []\n",
              "Name: skills_expeience, Length: 99, dtype: object"
            ]
          },
          "metadata": {},
          "execution_count": 79
        }
      ]
    },
    {
      "cell_type": "code",
      "source": [
        "df_jobs['skills_expeience'].head(20)"
      ],
      "metadata": {
        "colab": {
          "base_uri": "https://localhost:8080/"
        },
        "id": "lDfjMOCEyIkU",
        "outputId": "d4f54f9b-1b8a-4d14-f780-edcfed7fa5ed"
      },
      "execution_count": null,
      "outputs": [
        {
          "output_type": "execute_result",
          "data": {
            "text/plain": [
              "0     [experience, experience, experience]\n",
              "1                 [experience, experience]\n",
              "2                                       []\n",
              "3                             [experience]\n",
              "4                                       []\n",
              "5                             [experience]\n",
              "6                                       []\n",
              "7                                       []\n",
              "8                                       []\n",
              "9                                       []\n",
              "10                            [experience]\n",
              "11    [experience, experience, experience]\n",
              "12                                      []\n",
              "13                                      []\n",
              "14                                      []\n",
              "15                                      []\n",
              "16                                      []\n",
              "17                                      []\n",
              "18                            [experience]\n",
              "19    [experience, experience, experience]\n",
              "Name: skills_expeience, dtype: object"
            ]
          },
          "metadata": {},
          "execution_count": 80
        }
      ]
    },
    {
      "cell_type": "code",
      "source": [
        "df_jobs['description'][0]"
      ],
      "metadata": {
        "colab": {
          "base_uri": "https://localhost:8080/",
          "height": 53
        },
        "id": "cDojcT07yJK9",
        "outputId": "7fded137-71c5-459d-bb17-d2c594e8fdcc"
      },
      "execution_count": null,
      "outputs": [
        {
          "output_type": "execute_result",
          "data": {
            "text/plain": [
              "'warehouse data streaming etl data governance business intelligence predictive analytics olap data science framework experience experience selling data analytics software solution experience global analytics market'"
            ],
            "application/vnd.google.colaboratory.intrinsic+json": {
              "type": "string"
            }
          },
          "metadata": {},
          "execution_count": 81
        }
      ]
    },
    {
      "cell_type": "code",
      "source": [
        "import textwrap\n",
        "print(textwrap.fill(df_jobs['description'][70], 70))"
      ],
      "metadata": {
        "colab": {
          "base_uri": "https://localhost:8080/"
        },
        "id": "IuSwYSKE1Ps5",
        "outputId": "ffa9e886-d974-4793-b027-0c6fa47c65b7"
      },
      "execution_count": null,
      "outputs": [
        {
          "output_type": "stream",
          "name": "stdout",
          "text": [
            "qualification experience required minimum year bachelor degree\n",
            "business science information system data science degree data analyst\n",
            "sale coordinator plattekloof cape town start immediately month\n",
            "contract client\n"
          ]
        }
      ]
    },
    {
      "cell_type": "markdown",
      "source": [
        "Why does it seem the South African data does not contain years or duration for acquired skills?\n",
        "\n"
      ],
      "metadata": {
        "id": "cNLCjKW31yvO"
      }
    },
    {
      "cell_type": "markdown",
      "source": [
        "Perhaps focus on skills only?"
      ],
      "metadata": {
        "id": "q9QpgXxa7EiI"
      }
    }
  ]
}